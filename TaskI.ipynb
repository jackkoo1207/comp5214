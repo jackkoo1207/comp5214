{
 "cells": [
  {
   "cell_type": "code",
   "execution_count": 2,
   "metadata": {},
   "outputs": [
    {
     "name": "stdout",
     "output_type": "stream",
     "text": [
      "train_num 10000 image_size 150\n",
      "val_num 2500 image_size 150\n"
     ]
    }
   ],
   "source": [
    "import os\n",
    "import numpy as np\n",
    "import matplotlib.pyplot as plt\n",
    "train_num=len(os.listdir(r'Task1/train/no'))\n",
    "val_num=len(os.listdir(r'Task1/val/no'))\n",
    "image_size= np.load(r'Task1/train/no/1.npy').shape[1]\n",
    "print(\"train_num\",train_num,\"image_size\",image_size)\n",
    "print(\"val_num\",val_num,\"image_size\",image_size)"
   ]
  },
  {
   "cell_type": "code",
   "execution_count": 33,
   "metadata": {},
   "outputs": [],
   "source": [
    "\n",
    "\n",
    "#labels: 0:no 1:sphere 2:vort\n",
    "x_train=np.empty((3*train_num,1,image_size,image_size))\n",
    "y_train=np.empty(3*train_num)\n",
    "x_val=np.empty((3*val_num,1,image_size,image_size))\n",
    "y_val=np.empty(3*val_num)\n",
    "for i in range(train_num):\n",
    "    x_train[i,0]=np.load(r'Task1/train/no/'+str(i+1)+'.npy')\n",
    "    y_train[i]=0\n",
    "for i in range(train_num):\n",
    "    x_train[train_num+i,0]=np.load(r'Task1/train/sphere/'+str(i+1)+'.npy')\n",
    "    y_train[train_num+i]=1\n",
    "for i in range(train_num):\n",
    "    x_train[2*train_num+i,0]=np.load(r'Task1/train/vort/'+str(i+1)+'.npy')\n",
    "    y_train[2*train_num+i]=2\n",
    "\n",
    "for i in range(val_num):\n",
    "    x_val[i,0]=np.load(r'Task1/val/no/'+str(i+1)+'.npy')\n",
    "    y_val[i]=0\n",
    "for i in range(val_num):\n",
    "    x_val[val_num+i,0]=np.load(r'Task1/val/sphere/'+str(i+1)+'.npy')\n",
    "    y_val[val_num+i]=1\n",
    "for i in range(val_num):\n",
    "    x_val[2*val_num+i,0]=np.load(r'Task1/val/vort/'+str(i+1)+'.npy')\n",
    "    y_val[2*val_num+i]=2"
   ]
  },
  {
   "cell_type": "code",
   "execution_count": 49,
   "metadata": {},
   "outputs": [
    {
     "name": "stdout",
     "output_type": "stream",
     "text": [
      "(27000, 1, 150, 150) (27000,)\n"
     ]
    }
   ],
   "source": [
    "from sklearn.model_selection import train_test_split\n",
    "x_train, x_test, y_train, y_test = train_test_split(x_train, y_train, test_size=0.1, random_state=42)\n"
   ]
  },
  {
   "cell_type": "code",
   "execution_count": 57,
   "metadata": {},
   "outputs": [
    {
     "name": "stdout",
     "output_type": "stream",
     "text": [
      "train_num 27000 test_num 3000 val_num 2500\n"
     ]
    },
    {
     "data": {
      "text/plain": [
       "(array([ 995., 1017.,  988.]),\n",
       " array([0.        , 0.66666667, 1.33333333, 2.        ]),\n",
       " <BarContainer object of 3 artists>)"
      ]
     },
     "execution_count": 57,
     "metadata": {},
     "output_type": "execute_result"
    },
    {
     "data": {
      "image/png": "[encoded data removed]",
      "text/plain": [
       "<Figure size 640x480 with 1 Axes>"
      ]
     },
     "metadata": {},
     "output_type": "display_data"
    }
   ],
   "source": [
    "train_num=x_train.shape[0]\n",
    "test_num=x_test.shape[0]\n",
    "print(\"train_num\",train_num,\"test_num\",test_num,\"val_num\",val_num)\n",
    "bin,hist=np.histogram(y_test)\n",
    "plt.hist(y_test,bins=3)"
   ]
  },
  {
   "cell_type": "code",
   "execution_count": 58,
   "metadata": {},
   "outputs": [],
   "source": [
    "np.save('Task1/x_train.npy', x_train)\n",
    "np.save('Task1/y_train.npy', y_train)\n",
    "np.save('Task1/x_val.npy', x_val)\n",
    "np.save('Task1/y_val.npy', y_val)\n",
    "np.save('Task1/x_test.npy', x_test)\n",
    "np.save('Task1/y_test.npy', y_test)"
   ]
  },
  {
   "cell_type": "code",
   "execution_count": 60,
   "metadata": {},
   "outputs": [],
   "source": [
    "from torchvision import transforms\n",
    "import random\n",
    "resized_image=64\n",
    "train_transform = transforms.Compose([transforms.Resize(resized_image),\n",
    "                                      transforms.RandomHorizontalFlip(),\n",
    "                                          transforms.RandomVerticalFlip(),\n",
    "                                          ])\n",
    "val_transform = transforms.Compose([transforms.Resize(resized_image)])\n",
    "test_transform = transforms.Compose([transforms.Resize(resized_image)])"
   ]
  },
  {
   "cell_type": "code",
   "execution_count": 61,
   "metadata": {},
   "outputs": [],
   "source": [
    "import torch\n",
    "from torch.utils.data import Dataset, DataLoader\n",
    "import numpy as np\n",
    "batch_size = 64\n",
    "class NumpyDataset(Dataset):\n",
    "    def __init__(self, data_path, labels_path, transform, three_channels=False):\n",
    "        self.data = np.load(data_path, mmap_mode='r')\n",
    "        self.labels = np.load(labels_path, mmap_mode='r')\n",
    "        self.transform = transform\n",
    "        self.three_channels = three_channels\n",
    "\n",
    "    def __len__(self):\n",
    "        return len(self.data)\n",
    "\n",
    "    def __getitem__(self, idx):\n",
    "        data = self.data[idx]\n",
    "        data = data.astype(np.float32)\n",
    "        data = self.transform(torch.from_numpy(data))\n",
    "        label = torch.tensor(self.labels[idx], dtype=torch.long)\n",
    "        return data, label\n",
    "\n",
    "def get_dataloader(data_path, labels_path, augmentations, batch_size=100,shuffle=True):\n",
    "\n",
    "    # create dataset\n",
    "    dataset = NumpyDataset(data_path, labels_path, augmentations)\n",
    "    # create dataloader\n",
    "    dataloader = DataLoader(dataset, shuffle=shuffle, batch_size=batch_size)\n",
    "    \n",
    "    return dataloader\n",
    "train_dataloader = get_dataloader('Task1/x_train.npy', 'Task1/y_train.npy', train_transform, batch_size=batch_size)\n",
    "val_dataloader = get_dataloader('Task1/x_val.npy', 'Task1/y_val.npy', val_transform, batch_size=batch_size)\n",
    "test_dataloader = get_dataloader('Task1/x_test.npy', 'Task1/y_test.npy', test_transform)"
   ]
  },
  {
   "cell_type": "code",
   "execution_count": 45,
   "metadata": {},
   "outputs": [
    {
     "name": "stdout",
     "output_type": "stream",
     "text": [
      "(30000, 1, 150, 150)\n"
     ]
    }
   ],
   "source": [
    "print(train_dataloader.dataset.data.shape)"
   ]
  },
  {
   "cell_type": "code",
   "execution_count": 46,
   "metadata": {},
   "outputs": [
    {
     "name": "stdout",
     "output_type": "stream",
     "text": [
      "cuda\n",
      "----------------------------------------------------------------\n",
      "        Layer (type)               Output Shape         Param #\n",
      "================================================================\n",
      "            Conv2d-1           [-1, 64, 64, 64]             576\n",
      "       BatchNorm2d-2           [-1, 64, 64, 64]             128\n",
      "              ReLU-3           [-1, 64, 64, 64]               0\n",
      "         MaxPool2d-4           [-1, 64, 32, 32]               0\n",
      "            Conv2d-5           [-1, 64, 32, 32]          36,864\n",
      "       BatchNorm2d-6           [-1, 64, 32, 32]             128\n",
      "              ReLU-7           [-1, 64, 32, 32]               0\n",
      "            Conv2d-8           [-1, 64, 32, 32]          36,864\n",
      "       BatchNorm2d-9           [-1, 64, 32, 32]             128\n",
      "             ReLU-10           [-1, 64, 32, 32]               0\n",
      "       BasicBlock-11           [-1, 64, 32, 32]               0\n",
      "           Conv2d-12           [-1, 64, 32, 32]          36,864\n",
      "      BatchNorm2d-13           [-1, 64, 32, 32]             128\n",
      "             ReLU-14           [-1, 64, 32, 32]               0\n",
      "           Conv2d-15           [-1, 64, 32, 32]          36,864\n",
      "      BatchNorm2d-16           [-1, 64, 32, 32]             128\n",
      "             ReLU-17           [-1, 64, 32, 32]               0\n",
      "       BasicBlock-18           [-1, 64, 32, 32]               0\n",
      "           Conv2d-19          [-1, 128, 16, 16]          73,728\n",
      "      BatchNorm2d-20          [-1, 128, 16, 16]             256\n",
      "             ReLU-21          [-1, 128, 16, 16]               0\n",
      "           Conv2d-22          [-1, 128, 16, 16]         147,456\n",
      "      BatchNorm2d-23          [-1, 128, 16, 16]             256\n",
      "           Conv2d-24          [-1, 128, 16, 16]           8,192\n",
      "      BatchNorm2d-25          [-1, 128, 16, 16]             256\n",
      "             ReLU-26          [-1, 128, 16, 16]               0\n",
      "       BasicBlock-27          [-1, 128, 16, 16]               0\n",
      "           Conv2d-28          [-1, 128, 16, 16]         147,456\n",
      "      BatchNorm2d-29          [-1, 128, 16, 16]             256\n",
      "             ReLU-30          [-1, 128, 16, 16]               0\n",
      "           Conv2d-31          [-1, 128, 16, 16]         147,456\n",
      "      BatchNorm2d-32          [-1, 128, 16, 16]             256\n",
      "             ReLU-33          [-1, 128, 16, 16]               0\n",
      "       BasicBlock-34          [-1, 128, 16, 16]               0\n",
      "           Conv2d-35            [-1, 256, 8, 8]         294,912\n",
      "      BatchNorm2d-36            [-1, 256, 8, 8]             512\n",
      "             ReLU-37            [-1, 256, 8, 8]               0\n",
      "           Conv2d-38            [-1, 256, 8, 8]         589,824\n",
      "      BatchNorm2d-39            [-1, 256, 8, 8]             512\n",
      "           Conv2d-40            [-1, 256, 8, 8]          32,768\n",
      "      BatchNorm2d-41            [-1, 256, 8, 8]             512\n",
      "             ReLU-42            [-1, 256, 8, 8]               0\n",
      "       BasicBlock-43            [-1, 256, 8, 8]               0\n",
      "           Conv2d-44            [-1, 256, 8, 8]         589,824\n",
      "      BatchNorm2d-45            [-1, 256, 8, 8]             512\n",
      "             ReLU-46            [-1, 256, 8, 8]               0\n",
      "           Conv2d-47            [-1, 256, 8, 8]         589,824\n",
      "      BatchNorm2d-48            [-1, 256, 8, 8]             512\n",
      "             ReLU-49            [-1, 256, 8, 8]               0\n",
      "       BasicBlock-50            [-1, 256, 8, 8]               0\n",
      "           Conv2d-51            [-1, 512, 4, 4]       1,179,648\n",
      "      BatchNorm2d-52            [-1, 512, 4, 4]           1,024\n",
      "             ReLU-53            [-1, 512, 4, 4]               0\n",
      "           Conv2d-54            [-1, 512, 4, 4]       2,359,296\n",
      "      BatchNorm2d-55            [-1, 512, 4, 4]           1,024\n",
      "           Conv2d-56            [-1, 512, 4, 4]         131,072\n",
      "      BatchNorm2d-57            [-1, 512, 4, 4]           1,024\n",
      "             ReLU-58            [-1, 512, 4, 4]               0\n",
      "       BasicBlock-59            [-1, 512, 4, 4]               0\n",
      "           Conv2d-60            [-1, 512, 4, 4]       2,359,296\n",
      "      BatchNorm2d-61            [-1, 512, 4, 4]           1,024\n",
      "             ReLU-62            [-1, 512, 4, 4]               0\n",
      "           Conv2d-63            [-1, 512, 4, 4]       2,359,296\n",
      "      BatchNorm2d-64            [-1, 512, 4, 4]           1,024\n",
      "             ReLU-65            [-1, 512, 4, 4]               0\n",
      "       BasicBlock-66            [-1, 512, 4, 4]               0\n",
      "AdaptiveAvgPool2d-67            [-1, 512, 1, 1]               0\n",
      "           Linear-68                    [-1, 3]           1,539\n",
      "================================================================\n",
      "Total params: 11,169,219\n",
      "Trainable params: 11,169,219\n",
      "Non-trainable params: 0\n",
      "----------------------------------------------------------------\n",
      "Input size (MB): 0.02\n",
      "Forward/backward pass size (MB): 20.50\n",
      "Params size (MB): 42.61\n",
      "Estimated Total Size (MB): 63.13\n",
      "----------------------------------------------------------------\n"
     ]
    }
   ],
   "source": [
    "from torchsummary import summary\n",
    "from torch import nn\n",
    "import torch\n",
    "device = 'cuda' if torch.cuda.is_available() else 'cpu'\n",
    "print(device) \n",
    "import torch.nn as nn\n",
    "\n",
    "class BasicBlock(nn.Module):\n",
    "    def __init__(self, in_channels, out_channels, stride=1):\n",
    "        super(BasicBlock, self).__init__()\n",
    "        self.conv1 = nn.Conv2d(in_channels, out_channels, kernel_size=3, stride=stride, padding=1, bias=False)\n",
    "        self.bn1 = nn.BatchNorm2d(out_channels)\n",
    "        self.relu = nn.ReLU(inplace=True)\n",
    "        self.conv2 = nn.Conv2d(out_channels, out_channels, kernel_size=3, stride=1, padding=1, bias=False)\n",
    "        self.bn2 = nn.BatchNorm2d(out_channels)\n",
    "        \n",
    "        self.shortcut = nn.Sequential()\n",
    "        if stride != 1 or in_channels != out_channels:\n",
    "            self.shortcut = nn.Sequential(\n",
    "                nn.Conv2d(in_channels, out_channels, kernel_size=1, stride=stride, bias=False),\n",
    "                nn.BatchNorm2d(out_channels)\n",
    "            )\n",
    "\n",
    "    def forward(self, x):\n",
    "        out = self.conv1(x)\n",
    "        out = self.bn1(out)\n",
    "        out = self.relu(out)\n",
    "        out = self.conv2(out)\n",
    "        out = self.bn2(out)\n",
    "        out += self.shortcut(x)\n",
    "        out = self.relu(out)\n",
    "        return out\n",
    "\n",
    "class ResNet18(nn.Module):\n",
    "    def __init__(self,three_channel=3,image_size=64,num_classes=10):\n",
    "        super(ResNet18, self).__init__()\n",
    "        self.size=resized_image\n",
    "        self.conv1 = nn.Conv2d(three_channel, image_size, kernel_size=3, stride=1, padding=1, bias=False)\n",
    "        self.bn1 = nn.BatchNorm2d(image_size)\n",
    "        self.relu = nn.ReLU(inplace=True)\n",
    "        self.maxpool = nn.MaxPool2d(kernel_size=3, stride=2, padding=1)\n",
    "        \n",
    "        self.layer1 = self._make_layer(BasicBlock, resized_image, 2, stride=1)\n",
    "        self.layer2 = self._make_layer(BasicBlock, 2*resized_image, 2, stride=2)\n",
    "        self.layer3 = self._make_layer(BasicBlock, 4*resized_image, 2, stride=2)\n",
    "        self.layer4 = self._make_layer(BasicBlock, 8*resized_image, 2, stride=2)\n",
    "        \n",
    "        self.avgpool = nn.AdaptiveAvgPool2d((1, 1))\n",
    "        self.fc = nn.Linear(8*resized_image, num_classes)\n",
    "\n",
    "    def _make_layer(self, block, out_channels, num_blocks, stride):\n",
    "        strides = [stride] + [1] * (num_blocks - 1)\n",
    "        layers = []\n",
    "        for stride in strides:\n",
    "            layers.append(block(self.size, out_channels, stride))\n",
    "            self.size = out_channels\n",
    "        return nn.Sequential(*layers)\n",
    "\n",
    "    def forward(self, x):\n",
    "        out = self.conv1(x)\n",
    "        out = self.bn1(out)\n",
    "        out = self.relu(out)\n",
    "        out = self.maxpool(out)\n",
    "        \n",
    "        out = self.layer1(out)\n",
    "        out = self.layer2(out)\n",
    "        out = self.layer3(out)\n",
    "        out = self.layer4(out)\n",
    "        \n",
    "        out = self.avgpool(out)\n",
    "        out = out.view(out.size(0), -1)\n",
    "        out = self.fc(out)\n",
    "        return out\n",
    "model=ResNet18(1,resized_image,3).to(device)\n",
    "summary(model,(1,resized_image,resized_image))"
   ]
  },
  {
   "cell_type": "code",
   "execution_count": 40,
   "metadata": {},
   "outputs": [],
   "source": [
    "hyperparams = {'learning_rate': 1e-3,\n",
    "                'weight_decay': 5e-5,\n",
    "                'cyclic_scheduler': True\n",
    "            }"
   ]
  },
  {
   "cell_type": "code",
   "execution_count": 62,
   "metadata": {},
   "outputs": [
    {
     "name": "stderr",
     "output_type": "stream",
     "text": [
      "100%|██████████| 422/422 [08:50<00:00,  1.26s/it]\n",
      "100%|██████████| 118/118 [02:07<00:00,  1.08s/it]\n"
     ]
    },
    {
     "name": "stdout",
     "output_type": "stream",
     "text": [
      "[Epoch 1/60] loss: 0.494480; val accuracy: 0.775467;\n"
     ]
    },
    {
     "name": "stderr",
     "output_type": "stream",
     "text": [
      "100%|██████████| 422/422 [00:27<00:00, 15.44it/s]\n",
      "100%|██████████| 118/118 [00:02<00:00, 48.16it/s]\n"
     ]
    },
    {
     "name": "stdout",
     "output_type": "stream",
     "text": [
      "[Epoch 2/60] loss: 0.488330; val accuracy: 0.773067;\n"
     ]
    },
    {
     "name": "stderr",
     "output_type": "stream",
     "text": [
      "100%|██████████| 422/422 [00:26<00:00, 15.64it/s]\n",
      "100%|██████████| 118/118 [00:02<00:00, 51.91it/s]\n"
     ]
    },
    {
     "name": "stdout",
     "output_type": "stream",
     "text": [
      "[Epoch 3/60] loss: 0.491426; val accuracy: 0.773600;\n"
     ]
    },
    {
     "name": "stderr",
     "output_type": "stream",
     "text": [
      "100%|██████████| 422/422 [00:26<00:00, 15.91it/s]\n",
      "100%|██████████| 118/118 [00:02<00:00, 56.54it/s]\n"
     ]
    },
    {
     "name": "stdout",
     "output_type": "stream",
     "text": [
      "[Epoch 4/60] loss: 0.498217; val accuracy: 0.773733;\n"
     ]
    },
    {
     "name": "stderr",
     "output_type": "stream",
     "text": [
      "100%|██████████| 422/422 [00:26<00:00, 15.83it/s]\n",
      "100%|██████████| 118/118 [00:02<00:00, 56.33it/s]\n"
     ]
    },
    {
     "name": "stdout",
     "output_type": "stream",
     "text": [
      "[Epoch 5/60] loss: 0.502908; val accuracy: 0.766133;\n"
     ]
    },
    {
     "name": "stderr",
     "output_type": "stream",
     "text": [
      "100%|██████████| 422/422 [00:26<00:00, 15.79it/s]\n",
      "100%|██████████| 118/118 [00:02<00:00, 55.97it/s]\n"
     ]
    },
    {
     "name": "stdout",
     "output_type": "stream",
     "text": [
      "[Epoch 6/60] loss: 0.501663; val accuracy: 0.768933;\n"
     ]
    },
    {
     "name": "stderr",
     "output_type": "stream",
     "text": [
      "100%|██████████| 422/422 [00:26<00:00, 15.79it/s]\n",
      "100%|██████████| 118/118 [00:02<00:00, 55.57it/s]\n"
     ]
    },
    {
     "name": "stdout",
     "output_type": "stream",
     "text": [
      "[Epoch 7/60] loss: 0.511223; val accuracy: 0.767200;\n"
     ]
    },
    {
     "name": "stderr",
     "output_type": "stream",
     "text": [
      "100%|██████████| 422/422 [00:26<00:00, 15.69it/s]\n",
      "100%|██████████| 118/118 [00:02<00:00, 54.82it/s]\n"
     ]
    },
    {
     "name": "stdout",
     "output_type": "stream",
     "text": [
      "[Epoch 8/60] loss: 0.515112; val accuracy: 0.755867;\n"
     ]
    },
    {
     "name": "stderr",
     "output_type": "stream",
     "text": [
      "100%|██████████| 422/422 [00:27<00:00, 15.62it/s]\n",
      "100%|██████████| 118/118 [00:02<00:00, 53.12it/s]\n"
     ]
    },
    {
     "name": "stdout",
     "output_type": "stream",
     "text": [
      "[Epoch 9/60] loss: 0.518178; val accuracy: 0.767600;\n"
     ]
    },
    {
     "name": "stderr",
     "output_type": "stream",
     "text": [
      "100%|██████████| 422/422 [00:27<00:00, 15.51it/s]\n",
      "100%|██████████| 118/118 [00:02<00:00, 50.58it/s]\n"
     ]
    },
    {
     "name": "stdout",
     "output_type": "stream",
     "text": [
      "[Epoch 10/60] loss: 0.513421; val accuracy: 0.770133;\n"
     ]
    },
    {
     "name": "stderr",
     "output_type": "stream",
     "text": [
      "100%|██████████| 422/422 [00:27<00:00, 15.40it/s]\n",
      "100%|██████████| 118/118 [00:02<00:00, 52.73it/s]\n"
     ]
    },
    {
     "name": "stdout",
     "output_type": "stream",
     "text": [
      "[Epoch 11/60] loss: 0.507227; val accuracy: 0.771467;\n"
     ]
    },
    {
     "name": "stderr",
     "output_type": "stream",
     "text": [
      "100%|██████████| 422/422 [00:27<00:00, 15.39it/s]\n",
      "100%|██████████| 118/118 [00:02<00:00, 52.89it/s]\n"
     ]
    },
    {
     "name": "stdout",
     "output_type": "stream",
     "text": [
      "[Epoch 12/60] loss: 0.487903; val accuracy: 0.796267;\n"
     ]
    },
    {
     "name": "stderr",
     "output_type": "stream",
     "text": [
      "100%|██████████| 422/422 [00:28<00:00, 14.66it/s]\n",
      "100%|██████████| 118/118 [00:01<00:00, 114.20it/s]\n"
     ]
    },
    {
     "name": "stdout",
     "output_type": "stream",
     "text": [
      "[Epoch 13/60] loss: 0.468179; val accuracy: 0.788000;\n"
     ]
    },
    {
     "name": "stderr",
     "output_type": "stream",
     "text": [
      "100%|██████████| 422/422 [00:28<00:00, 14.83it/s]\n",
      "100%|██████████| 118/118 [00:02<00:00, 54.87it/s]\n"
     ]
    },
    {
     "name": "stdout",
     "output_type": "stream",
     "text": [
      "[Epoch 14/60] loss: 0.432320; val accuracy: 0.811333;\n"
     ]
    },
    {
     "name": "stderr",
     "output_type": "stream",
     "text": [
      "100%|██████████| 422/422 [00:28<00:00, 15.03it/s]\n",
      "100%|██████████| 118/118 [00:02<00:00, 55.85it/s]\n"
     ]
    },
    {
     "name": "stdout",
     "output_type": "stream",
     "text": [
      "[Epoch 15/60] loss: 0.404541; val accuracy: 0.821600;\n"
     ]
    },
    {
     "name": "stderr",
     "output_type": "stream",
     "text": [
      "100%|██████████| 422/422 [00:27<00:00, 15.58it/s]\n",
      "100%|██████████| 118/118 [00:02<00:00, 54.44it/s]\n"
     ]
    },
    {
     "name": "stdout",
     "output_type": "stream",
     "text": [
      "[Epoch 16/60] loss: 0.365680; val accuracy: 0.856533;\n"
     ]
    },
    {
     "name": "stderr",
     "output_type": "stream",
     "text": [
      "100%|██████████| 422/422 [00:27<00:00, 15.60it/s]\n",
      "100%|██████████| 118/118 [00:02<00:00, 55.23it/s]\n"
     ]
    },
    {
     "name": "stdout",
     "output_type": "stream",
     "text": [
      "[Epoch 17/60] loss: 0.343346; val accuracy: 0.862267;\n"
     ]
    },
    {
     "name": "stderr",
     "output_type": "stream",
     "text": [
      "100%|██████████| 422/422 [00:27<00:00, 15.43it/s]\n",
      "100%|██████████| 118/118 [00:02<00:00, 54.58it/s]\n"
     ]
    },
    {
     "name": "stdout",
     "output_type": "stream",
     "text": [
      "[Epoch 18/60] loss: 0.316967; val accuracy: 0.877467;\n"
     ]
    },
    {
     "name": "stderr",
     "output_type": "stream",
     "text": [
      "100%|██████████| 422/422 [00:27<00:00, 15.58it/s]\n",
      "100%|██████████| 118/118 [00:02<00:00, 54.86it/s]\n"
     ]
    },
    {
     "name": "stdout",
     "output_type": "stream",
     "text": [
      "[Epoch 19/60] loss: 0.299987; val accuracy: 0.882933;\n"
     ]
    },
    {
     "name": "stderr",
     "output_type": "stream",
     "text": [
      "100%|██████████| 422/422 [00:27<00:00, 15.37it/s]\n",
      "100%|██████████| 118/118 [00:02<00:00, 55.50it/s]\n"
     ]
    },
    {
     "name": "stdout",
     "output_type": "stream",
     "text": [
      "[Epoch 20/60] loss: 0.278590; val accuracy: 0.888267;\n"
     ]
    },
    {
     "name": "stderr",
     "output_type": "stream",
     "text": [
      "100%|██████████| 422/422 [00:26<00:00, 15.66it/s]\n",
      "100%|██████████| 118/118 [00:02<00:00, 54.46it/s]\n"
     ]
    },
    {
     "name": "stdout",
     "output_type": "stream",
     "text": [
      "[Epoch 21/60] loss: 0.258588; val accuracy: 0.897600;\n"
     ]
    },
    {
     "name": "stderr",
     "output_type": "stream",
     "text": [
      "100%|██████████| 422/422 [00:27<00:00, 15.58it/s]\n",
      "100%|██████████| 118/118 [00:02<00:00, 54.00it/s]\n"
     ]
    },
    {
     "name": "stdout",
     "output_type": "stream",
     "text": [
      "[Epoch 22/60] loss: 0.246538; val accuracy: 0.891467;\n"
     ]
    },
    {
     "name": "stderr",
     "output_type": "stream",
     "text": [
      "100%|██████████| 422/422 [00:27<00:00, 15.38it/s]\n",
      "100%|██████████| 118/118 [00:02<00:00, 53.61it/s]\n"
     ]
    },
    {
     "name": "stdout",
     "output_type": "stream",
     "text": [
      "[Epoch 23/60] loss: 0.233700; val accuracy: 0.898133;\n"
     ]
    },
    {
     "name": "stderr",
     "output_type": "stream",
     "text": [
      "100%|██████████| 422/422 [00:27<00:00, 15.41it/s]\n",
      "100%|██████████| 118/118 [00:02<00:00, 54.86it/s]\n"
     ]
    },
    {
     "name": "stdout",
     "output_type": "stream",
     "text": [
      "[Epoch 24/60] loss: 0.226569; val accuracy: 0.901867;\n"
     ]
    },
    {
     "name": "stderr",
     "output_type": "stream",
     "text": [
      "100%|██████████| 422/422 [00:27<00:00, 15.51it/s]\n",
      "100%|██████████| 118/118 [00:02<00:00, 52.54it/s]\n"
     ]
    },
    {
     "name": "stdout",
     "output_type": "stream",
     "text": [
      "[Epoch 25/60] loss: 0.220253; val accuracy: 0.910667;\n"
     ]
    },
    {
     "name": "stderr",
     "output_type": "stream",
     "text": [
      "100%|██████████| 422/422 [00:27<00:00, 15.48it/s]\n",
      "100%|██████████| 118/118 [00:02<00:00, 55.78it/s]\n"
     ]
    },
    {
     "name": "stdout",
     "output_type": "stream",
     "text": [
      "[Epoch 26/60] loss: 0.207064; val accuracy: 0.909200;\n"
     ]
    },
    {
     "name": "stderr",
     "output_type": "stream",
     "text": [
      "100%|██████████| 422/422 [00:27<00:00, 15.61it/s]\n",
      "100%|██████████| 118/118 [00:02<00:00, 55.95it/s]\n"
     ]
    },
    {
     "name": "stdout",
     "output_type": "stream",
     "text": [
      "[Epoch 27/60] loss: 0.200168; val accuracy: 0.905600;\n"
     ]
    },
    {
     "name": "stderr",
     "output_type": "stream",
     "text": [
      "100%|██████████| 422/422 [00:27<00:00, 15.57it/s]\n",
      "100%|██████████| 118/118 [00:02<00:00, 55.33it/s]\n"
     ]
    },
    {
     "name": "stdout",
     "output_type": "stream",
     "text": [
      "[Epoch 28/60] loss: 0.192712; val accuracy: 0.916667;\n"
     ]
    },
    {
     "name": "stderr",
     "output_type": "stream",
     "text": [
      "100%|██████████| 422/422 [00:27<00:00, 15.34it/s]\n",
      "100%|██████████| 118/118 [00:02<00:00, 53.76it/s]\n"
     ]
    },
    {
     "name": "stdout",
     "output_type": "stream",
     "text": [
      "[Epoch 29/60] loss: 0.182940; val accuracy: 0.922000;\n"
     ]
    },
    {
     "name": "stderr",
     "output_type": "stream",
     "text": [
      "100%|██████████| 422/422 [00:27<00:00, 15.37it/s]\n",
      "100%|██████████| 118/118 [00:02<00:00, 54.70it/s]\n"
     ]
    },
    {
     "name": "stdout",
     "output_type": "stream",
     "text": [
      "[Epoch 30/60] loss: 0.179336; val accuracy: 0.929333;\n"
     ]
    },
    {
     "name": "stderr",
     "output_type": "stream",
     "text": [
      "100%|██████████| 422/422 [00:27<00:00, 15.46it/s]\n",
      "100%|██████████| 118/118 [00:02<00:00, 55.71it/s]\n"
     ]
    },
    {
     "name": "stdout",
     "output_type": "stream",
     "text": [
      "[Epoch 31/60] loss: 0.169121; val accuracy: 0.924267;\n"
     ]
    },
    {
     "name": "stderr",
     "output_type": "stream",
     "text": [
      "100%|██████████| 422/422 [00:27<00:00, 15.52it/s]\n",
      "100%|██████████| 118/118 [00:02<00:00, 54.93it/s]\n"
     ]
    },
    {
     "name": "stdout",
     "output_type": "stream",
     "text": [
      "[Epoch 32/60] loss: 0.167401; val accuracy: 0.931467;\n"
     ]
    },
    {
     "name": "stderr",
     "output_type": "stream",
     "text": [
      "100%|██████████| 422/422 [00:27<00:00, 15.40it/s]\n",
      "100%|██████████| 118/118 [00:02<00:00, 51.04it/s]\n"
     ]
    },
    {
     "name": "stdout",
     "output_type": "stream",
     "text": [
      "[Epoch 33/60] loss: 0.159716; val accuracy: 0.923867;\n"
     ]
    },
    {
     "name": "stderr",
     "output_type": "stream",
     "text": [
      "100%|██████████| 422/422 [00:27<00:00, 15.59it/s]\n",
      "100%|██████████| 118/118 [00:02<00:00, 56.30it/s]\n"
     ]
    },
    {
     "name": "stdout",
     "output_type": "stream",
     "text": [
      "[Epoch 34/60] loss: 0.147185; val accuracy: 0.929867;\n"
     ]
    },
    {
     "name": "stderr",
     "output_type": "stream",
     "text": [
      "100%|██████████| 422/422 [00:28<00:00, 14.91it/s]\n",
      "100%|██████████| 118/118 [00:02<00:00, 56.08it/s]\n"
     ]
    },
    {
     "name": "stdout",
     "output_type": "stream",
     "text": [
      "[Epoch 35/60] loss: 0.136889; val accuracy: 0.926000;\n"
     ]
    },
    {
     "name": "stderr",
     "output_type": "stream",
     "text": [
      "100%|██████████| 422/422 [00:26<00:00, 15.77it/s]\n",
      "100%|██████████| 118/118 [00:02<00:00, 56.18it/s]\n"
     ]
    },
    {
     "name": "stdout",
     "output_type": "stream",
     "text": [
      "[Epoch 36/60] loss: 0.134445; val accuracy: 0.939333;\n"
     ]
    },
    {
     "name": "stderr",
     "output_type": "stream",
     "text": [
      "100%|██████████| 422/422 [00:27<00:00, 15.56it/s]\n",
      "100%|██████████| 118/118 [00:02<00:00, 55.56it/s]\n"
     ]
    },
    {
     "name": "stdout",
     "output_type": "stream",
     "text": [
      "[Epoch 37/60] loss: 0.124958; val accuracy: 0.936267;\n"
     ]
    },
    {
     "name": "stderr",
     "output_type": "stream",
     "text": [
      "100%|██████████| 422/422 [00:27<00:00, 15.46it/s]\n",
      "100%|██████████| 118/118 [00:02<00:00, 53.03it/s]\n"
     ]
    },
    {
     "name": "stdout",
     "output_type": "stream",
     "text": [
      "[Epoch 38/60] loss: 0.116823; val accuracy: 0.940800;\n"
     ]
    },
    {
     "name": "stderr",
     "output_type": "stream",
     "text": [
      "100%|██████████| 422/422 [00:27<00:00, 15.26it/s]\n",
      "100%|██████████| 118/118 [00:02<00:00, 53.72it/s]\n"
     ]
    },
    {
     "name": "stdout",
     "output_type": "stream",
     "text": [
      "[Epoch 39/60] loss: 0.107422; val accuracy: 0.938800;\n"
     ]
    },
    {
     "name": "stderr",
     "output_type": "stream",
     "text": [
      "100%|██████████| 422/422 [00:27<00:00, 15.56it/s]\n",
      "100%|██████████| 118/118 [00:02<00:00, 56.15it/s]\n"
     ]
    },
    {
     "name": "stdout",
     "output_type": "stream",
     "text": [
      "[Epoch 40/60] loss: 0.101634; val accuracy: 0.942267;\n"
     ]
    },
    {
     "name": "stderr",
     "output_type": "stream",
     "text": [
      "100%|██████████| 422/422 [00:26<00:00, 15.65it/s]\n",
      "100%|██████████| 118/118 [00:02<00:00, 55.75it/s]\n"
     ]
    },
    {
     "name": "stdout",
     "output_type": "stream",
     "text": [
      "[Epoch 41/60] loss: 0.094922; val accuracy: 0.936400;\n"
     ]
    },
    {
     "name": "stderr",
     "output_type": "stream",
     "text": [
      "100%|██████████| 422/422 [00:27<00:00, 15.51it/s]\n",
      "100%|██████████| 118/118 [00:02<00:00, 54.53it/s]\n"
     ]
    },
    {
     "name": "stdout",
     "output_type": "stream",
     "text": [
      "[Epoch 42/60] loss: 0.088998; val accuracy: 0.942933;\n"
     ]
    },
    {
     "name": "stderr",
     "output_type": "stream",
     "text": [
      "100%|██████████| 422/422 [00:27<00:00, 15.51it/s]\n",
      "100%|██████████| 118/118 [00:02<00:00, 55.60it/s]\n"
     ]
    },
    {
     "name": "stdout",
     "output_type": "stream",
     "text": [
      "[Epoch 43/60] loss: 0.083426; val accuracy: 0.948267;\n"
     ]
    },
    {
     "name": "stderr",
     "output_type": "stream",
     "text": [
      "100%|██████████| 422/422 [00:26<00:00, 15.69it/s]\n",
      "100%|██████████| 118/118 [00:02<00:00, 54.97it/s]\n"
     ]
    },
    {
     "name": "stdout",
     "output_type": "stream",
     "text": [
      "[Epoch 44/60] loss: 0.075988; val accuracy: 0.943733;\n"
     ]
    },
    {
     "name": "stderr",
     "output_type": "stream",
     "text": [
      "100%|██████████| 422/422 [00:28<00:00, 14.98it/s]\n",
      "100%|██████████| 118/118 [00:00<00:00, 119.52it/s]\n"
     ]
    },
    {
     "name": "stdout",
     "output_type": "stream",
     "text": [
      "[Epoch 45/60] loss: 0.067840; val accuracy: 0.945200;\n"
     ]
    },
    {
     "name": "stderr",
     "output_type": "stream",
     "text": [
      "100%|██████████| 422/422 [00:28<00:00, 14.89it/s]\n",
      "100%|██████████| 118/118 [00:02<00:00, 56.10it/s]\n"
     ]
    },
    {
     "name": "stdout",
     "output_type": "stream",
     "text": [
      "[Epoch 46/60] loss: 0.061967; val accuracy: 0.949867;\n"
     ]
    },
    {
     "name": "stderr",
     "output_type": "stream",
     "text": [
      "100%|██████████| 422/422 [00:27<00:00, 15.54it/s]\n",
      "100%|██████████| 118/118 [00:02<00:00, 53.22it/s]\n"
     ]
    },
    {
     "name": "stdout",
     "output_type": "stream",
     "text": [
      "[Epoch 47/60] loss: 0.052773; val accuracy: 0.950000;\n"
     ]
    },
    {
     "name": "stderr",
     "output_type": "stream",
     "text": [
      "100%|██████████| 422/422 [00:27<00:00, 15.59it/s]\n",
      "100%|██████████| 118/118 [00:02<00:00, 55.12it/s]\n"
     ]
    },
    {
     "name": "stdout",
     "output_type": "stream",
     "text": [
      "[Epoch 48/60] loss: 0.049599; val accuracy: 0.947200;\n"
     ]
    },
    {
     "name": "stderr",
     "output_type": "stream",
     "text": [
      "100%|██████████| 422/422 [00:27<00:00, 15.49it/s]\n",
      "100%|██████████| 118/118 [00:02<00:00, 55.99it/s]\n"
     ]
    },
    {
     "name": "stdout",
     "output_type": "stream",
     "text": [
      "[Epoch 49/60] loss: 0.042810; val accuracy: 0.952933;\n"
     ]
    },
    {
     "name": "stderr",
     "output_type": "stream",
     "text": [
      "100%|██████████| 422/422 [00:27<00:00, 15.53it/s]\n",
      "100%|██████████| 118/118 [00:02<00:00, 55.15it/s]\n"
     ]
    },
    {
     "name": "stdout",
     "output_type": "stream",
     "text": [
      "[Epoch 50/60] loss: 0.040307; val accuracy: 0.952933;\n"
     ]
    },
    {
     "name": "stderr",
     "output_type": "stream",
     "text": [
      "100%|██████████| 422/422 [00:27<00:00, 15.60it/s]\n",
      "100%|██████████| 118/118 [00:02<00:00, 56.04it/s]\n"
     ]
    },
    {
     "name": "stdout",
     "output_type": "stream",
     "text": [
      "[Epoch 51/60] loss: 0.030982; val accuracy: 0.954400;\n"
     ]
    },
    {
     "name": "stderr",
     "output_type": "stream",
     "text": [
      "100%|██████████| 422/422 [00:27<00:00, 15.62it/s]\n",
      "100%|██████████| 118/118 [00:02<00:00, 56.35it/s]\n"
     ]
    },
    {
     "name": "stdout",
     "output_type": "stream",
     "text": [
      "[Epoch 52/60] loss: 0.027230; val accuracy: 0.956933;\n"
     ]
    },
    {
     "name": "stderr",
     "output_type": "stream",
     "text": [
      "100%|██████████| 422/422 [00:27<00:00, 15.58it/s]\n",
      "100%|██████████| 118/118 [00:02<00:00, 55.71it/s]\n"
     ]
    },
    {
     "name": "stdout",
     "output_type": "stream",
     "text": [
      "[Epoch 53/60] loss: 0.023721; val accuracy: 0.952533;\n"
     ]
    },
    {
     "name": "stderr",
     "output_type": "stream",
     "text": [
      "100%|██████████| 422/422 [00:26<00:00, 15.74it/s]\n",
      "100%|██████████| 118/118 [00:02<00:00, 55.28it/s]\n"
     ]
    },
    {
     "name": "stdout",
     "output_type": "stream",
     "text": [
      "[Epoch 54/60] loss: 0.019955; val accuracy: 0.955067;\n"
     ]
    },
    {
     "name": "stderr",
     "output_type": "stream",
     "text": [
      "100%|██████████| 422/422 [00:27<00:00, 15.49it/s]\n",
      "100%|██████████| 118/118 [00:02<00:00, 54.96it/s]\n"
     ]
    },
    {
     "name": "stdout",
     "output_type": "stream",
     "text": [
      "[Epoch 55/60] loss: 0.018944; val accuracy: 0.955600;\n"
     ]
    },
    {
     "name": "stderr",
     "output_type": "stream",
     "text": [
      "100%|██████████| 422/422 [00:26<00:00, 15.69it/s]\n",
      "100%|██████████| 118/118 [00:02<00:00, 55.52it/s]\n"
     ]
    },
    {
     "name": "stdout",
     "output_type": "stream",
     "text": [
      "[Epoch 56/60] loss: 0.016289; val accuracy: 0.954667;\n"
     ]
    },
    {
     "name": "stderr",
     "output_type": "stream",
     "text": [
      "100%|██████████| 422/422 [00:28<00:00, 14.92it/s]\n",
      "100%|██████████| 118/118 [00:02<00:00, 50.82it/s]\n"
     ]
    },
    {
     "name": "stdout",
     "output_type": "stream",
     "text": [
      "[Epoch 57/60] loss: 0.014177; val accuracy: 0.958267;\n"
     ]
    },
    {
     "name": "stderr",
     "output_type": "stream",
     "text": [
      "100%|██████████| 422/422 [00:27<00:00, 15.42it/s]\n",
      "100%|██████████| 118/118 [00:02<00:00, 52.98it/s]\n"
     ]
    },
    {
     "name": "stdout",
     "output_type": "stream",
     "text": [
      "[Epoch 58/60] loss: 0.013121; val accuracy: 0.957200;\n"
     ]
    },
    {
     "name": "stderr",
     "output_type": "stream",
     "text": [
      "100%|██████████| 422/422 [00:27<00:00, 15.50it/s]\n",
      "100%|██████████| 118/118 [00:02<00:00, 54.72it/s]\n"
     ]
    },
    {
     "name": "stdout",
     "output_type": "stream",
     "text": [
      "[Epoch 59/60] loss: 0.014282; val accuracy: 0.953200;\n"
     ]
    },
    {
     "name": "stderr",
     "output_type": "stream",
     "text": [
      "100%|██████████| 422/422 [00:27<00:00, 15.34it/s]\n",
      "100%|██████████| 118/118 [00:02<00:00, 52.32it/s]\n",
      "/tmp/ipykernel_786864/3180956483.py:77: FutureWarning: You are using `torch.load` with `weights_only=False` (the current default value), which uses the default pickle module implicitly. It is possible to construct malicious pickle data which will execute arbitrary code during unpickling (See https://github.com/pytorch/pytorch/blob/main/SECURITY.md#untrusted-models for more details). In a future release, the default value for `weights_only` will be flipped to `True`. This limits the functions that could be executed during unpickling. Arbitrary objects will no longer be allowed to be loaded via this mode unless they are explicitly allowlisted by the user via `torch.serialization.add_safe_globals`. We recommend you start setting `weights_only=True` for any use case where you don't have full control of the loaded file. Please open an issue on GitHub for any issues related to this experimental feature.\n",
      "  best = torch.load(save_path)\n"
     ]
    },
    {
     "name": "stdout",
     "output_type": "stream",
     "text": [
      "[Epoch 60/60] loss: 0.012610; val accuracy: 0.956533;\n"
     ]
    }
   ],
   "source": [
    "import torch\n",
    "from torch import nn\n",
    "import torch.nn.functional as F\n",
    "import torch.optim as optim\n",
    "import numpy as np\n",
    "import matplotlib.pyplot as plt\n",
    "import sklearn.metrics\n",
    "import seaborn as sns\n",
    "from tqdm import tqdm\n",
    "def train(model, dataloader, dataloader_test, epochs, hyperparams, save_path):\n",
    "    criterion = nn.CrossEntropyLoss()\n",
    "    lr = hyperparams['learning_rate']\n",
    "    wd = hyperparams['weight_decay']\n",
    "    cyclic_scheduler = hyperparams['cyclic_scheduler']\n",
    "\n",
    "    optimizer = optim.Adam(model.parameters(), lr=lr, weight_decay=wd)\n",
    "    if cyclic_scheduler:\n",
    "        scheduler = optim.lr_scheduler.OneCycleLR(optimizer, lr, epochs=epochs, steps_per_epoch=len(dataloader))\n",
    "\n",
    "    # early stopping variables\n",
    "    start_epoch = 0\n",
    "    best_acc = 0.0\n",
    "    patience = 15\n",
    "    bad_epochs = 0\n",
    "\n",
    "    # metrics\n",
    "    history = {'loss': [], 'accuracy': []}\n",
    "\n",
    "    # training loop\n",
    "    for epoch in range(start_epoch, epochs):\n",
    "        running_loss = 0.0\n",
    "        for data, labels in tqdm(dataloader):\n",
    "            data = data.to(device)\n",
    "            labels = labels.to(device)\n",
    "\n",
    "            # zero gradients\n",
    "            optimizer.zero_grad()\n",
    "            #print(data[:,None,:,:].shape)\n",
    "            #print(labels.shape) \n",
    "            # classify and get loss\n",
    "            outputs = model(data) \n",
    "            loss = criterion(outputs, labels)\n",
    "            \n",
    "            # backpropagate and update weights\n",
    "            loss.backward()\n",
    "            optimizer.step()\n",
    "\n",
    "            if cyclic_scheduler:\n",
    "                scheduler.step()\n",
    "\n",
    "            # metrics\n",
    "            running_loss += loss.item()\n",
    "\n",
    "        # get losses\n",
    "        epoch_loss = running_loss / len(dataloader)\n",
    "        history['loss'].append(epoch_loss)\n",
    "\n",
    "        #epoch_accuracy = evaluate(model,dataloader)\n",
    "        val_epoch_accuracy =evaluate(model,dataloader_test)\n",
    "        history['accuracy'].append(val_epoch_accuracy)\n",
    "        \n",
    "        # save checkpoint\n",
    "        if val_epoch_accuracy > best_acc:\n",
    "            torch.save(model.state_dict(), save_path)\n",
    "            best_acc = val_epoch_accuracy\n",
    "            bad_epochs = 0\n",
    "            \n",
    "        else:\n",
    "            bad_epochs += 1\n",
    "        \n",
    "        print('[Epoch {}/{}] loss: {:.6f}; val accuracy: {:.6f};'.format(epoch+1, epochs, epoch_loss,  val_epoch_accuracy))\n",
    "        \n",
    "        if bad_epochs >= patience:\n",
    "            print(f\"reached {bad_epochs} bad epochs, stopping training with best val accuracy of {best_acc}!\")\n",
    "            break\n",
    "\n",
    "    best = torch.load(save_path)\n",
    "    model.load_state_dict(best)\n",
    "    \n",
    "    return history\n",
    "\n",
    "def evaluate(model, dataloader, return_lists_roc=False):\n",
    "    labels_list = []\n",
    "    outputs_list = []\n",
    "    preds_list = []\n",
    "\n",
    "    with torch.no_grad():\n",
    "        for data, labels in tqdm(dataloader):\n",
    "            data = data.to(device)\n",
    "            labels = labels.to(device)\n",
    "\n",
    "            # predict\n",
    "            outputs = F.softmax(model(data), dim=1)\n",
    "\n",
    "            # numpify\n",
    "            labels_numpy = labels.detach().cpu().numpy()\n",
    "            outputs_numpy = outputs.detach().cpu().numpy() # probs (AUROC)\n",
    "            \n",
    "            preds = np.argmax(outputs_numpy, axis=1) # accuracy\n",
    "\n",
    "            # append\n",
    "            labels_list.append(labels_numpy)\n",
    "            outputs_list.append(outputs_numpy)\n",
    "            preds_list.append(preds)\n",
    "\n",
    "        labels_list = np.concatenate(labels_list)\n",
    "        outputs_list = np.concatenate(outputs_list)\n",
    "        preds_list = np.concatenate(preds_list)\n",
    "\n",
    "    # metrics\n",
    "    #auc = sklearn.metrics.roc_auc_score(labels_list, outputs_list, multi_class='ovr')\n",
    "    accuracy = sklearn.metrics.accuracy_score(labels_list, preds_list)\n",
    "\n",
    "    if return_lists_roc:\n",
    "        return accuracy, labels_list, outputs_list, preds_list\n",
    "        \n",
    "    return accuracy\n",
    "num_epochs = 60\n",
    "save_path = \"./Task1.pt\"\n",
    "history=train(model,train_dataloader,val_dataloader, num_epochs, hyperparams, save_path)\n"
   ]
  },
  {
   "cell_type": "code",
   "execution_count": 48,
   "metadata": {},
   "outputs": [
    {
     "data": {
      "text/plain": [
       "[<matplotlib.lines.Line2D at 0x7fb3b76224d0>]"
      ]
     },
     "execution_count": 48,
     "metadata": {},
     "output_type": "execute_result"
    },
    {
     "data": {
      "image/png": "[encoded data removed]",
      "text/plain": [
       "<Figure size 640x480 with 1 Axes>"
      ]
     },
     "metadata": {},
     "output_type": "display_data"
    },
    {
     "data": {
      "image/png": "[encoded data removed]",
      "text/plain": [
       "<Figure size 640x480 with 1 Axes>"
      ]
     },
     "metadata": {},
     "output_type": "display_data"
    }
   ],
   "source": [
    "plt.figure()\n",
    "plt.plot(history['loss'])\n",
    "plt.figure()\n",
    "plt.plot(history['accuracy'])"
   ]
  },
  {
   "cell_type": "code",
   "execution_count": 63,
   "metadata": {},
   "outputs": [
    {
     "data": {
      "text/plain": [
       "[<matplotlib.lines.Line2D at 0x7fb3b4394d00>]"
      ]
     },
     "execution_count": 63,
     "metadata": {},
     "output_type": "execute_result"
    },
    {
     "data": {
      "image/png": "[encoded data removed]",
      "text/plain": [
       "<Figure size 640x480 with 1 Axes>"
      ]
     },
     "metadata": {},
     "output_type": "display_data"
    },
    {
     "data": {
      "image/png": "[encoded data removed]",
      "text/plain": [
       "<Figure size 640x480 with 1 Axes>"
      ]
     },
     "metadata": {},
     "output_type": "display_data"
    }
   ],
   "source": [
    "plt.figure()\n",
    "plt.plot(history['loss'])\n",
    "plt.figure()\n",
    "plt.plot(history['accuracy'])"
   ]
  },
  {
   "cell_type": "code",
   "execution_count": 73,
   "metadata": {},
   "outputs": [
    {
     "name": "stderr",
     "output_type": "stream",
     "text": [
      "100%|██████████| 30/30 [00:01<00:00, 27.06it/s]\n"
     ]
    },
    {
     "name": "stdout",
     "output_type": "stream",
     "text": [
      "0.96\n"
     ]
    },
    {
     "data": {
      "image/png": "[encoded data removed]",
      "text/plain": [
       "<Figure size 640x480 with 1 Axes>"
      ]
     },
     "metadata": {},
     "output_type": "display_data"
    },
    {
     "data": {
      "text/plain": [
       "<Figure size 800x800 with 0 Axes>"
      ]
     },
     "metadata": {},
     "output_type": "display_data"
    },
    {
     "data": {
      "image/png": "[encoded data removed]",
      "text/plain": [
       "<Figure size 640x480 with 1 Axes>"
      ]
     },
     "metadata": {},
     "output_type": "display_data"
    }
   ],
   "source": [
    "import torch\n",
    "from torch import nn\n",
    "import torch.nn.functional as F\n",
    "import torch.optim as optim\n",
    "import numpy as np\n",
    "import matplotlib.pyplot as plt\n",
    "import sklearn.metrics\n",
    "import seaborn as sns\n",
    "from tqdm import tqdm\n",
    "from sklearn.preprocessing import LabelBinarizer\n",
    "from sklearn.metrics import RocCurveDisplay\n",
    "device = torch.device(\"cuda\" if torch.cuda.is_available() else \"cpu\")\n",
    "def ROC_average(labels_list, outputs_list, preds_list, n_classes=3):\n",
    "    cmap = sns.diverging_palette(0, 255, sep=1, n=256, as_cmap=True)\n",
    "    fig, ax = plt.subplots()\n",
    "    ax.set_title(\"Average ROC curves\")\n",
    "    ax.set_xlabel(\"False Positive Rate\")\n",
    "    ax.set_ylabel(\"True Positive Rate\")\n",
    "    categories ='resnet18' #  0:no 1:sphere 2:vort \n",
    "    color='r'\n",
    "    # plot roc\n",
    "    ## one hot encode data\n",
    "    label_binarizer = LabelBinarizer().fit( labels_list)\n",
    "    onehot = label_binarizer.transform(labels_list)\n",
    "    plot_chance_level=True\n",
    "    display = RocCurveDisplay.from_predictions(\n",
    "        onehot.ravel(),\n",
    "        outputs_list.ravel(),\n",
    "        name=categories,\n",
    "        color=color,\n",
    "        plot_chance_level=plot_chance_level ,\n",
    "        ax=ax, \n",
    "    )\n",
    "\n",
    "def ROC_one_vs_rest(labels_list, outputs_list, preds_list, n_classes=3):\n",
    "    plt.figure(figsize=(4,4), dpi=200)\n",
    "    categories = ['no', 'sphere', 'vort ']  #  0:no 1:sphere 2:vort  \n",
    "    color=['r','g','b']\n",
    "    # plot roc\n",
    "    ## one hot encode data\n",
    "    label_binarizer = LabelBinarizer().fit( labels_list)\n",
    "    onehot = label_binarizer.transform(labels_list)\n",
    "    fig, ax = plt.subplots()\n",
    "    ax.set_title(\"One vs rest ROC curves\")\n",
    "    ax.set_xlabel(\"False Positive Rate\")\n",
    "    ax.set_ylabel(\"True Positive Rate\")\n",
    "    for class_of_interest in range(n_classes):\n",
    "        class_id = np.flatnonzero(label_binarizer.classes_ == class_of_interest)[0]\n",
    "        plot_chance_level =False\n",
    "        ## get roc curve and auroc for each class\n",
    "        if class_of_interest == n_classes-1:\n",
    "            plot_chance_level=True\n",
    "        display = RocCurveDisplay.from_predictions(\n",
    "            onehot[:, class_id],\n",
    "            outputs_list[:, class_id],\n",
    "            name=f\"{categories[class_of_interest]} vs the rest\",\n",
    "            color=color[class_of_interest],\n",
    "            plot_chance_level=plot_chance_level ,\n",
    "            ax=ax, \n",
    "        )\n",
    "accuracy, labels_list, outputs_list, preds_list=evaluate(model,test_dataloader,return_lists_roc=True)\n",
    "print(accuracy)\n",
    "ROC_average(labels_list, outputs_list, preds_list, n_classes=3)\n",
    "ROC_one_vs_rest(labels_list, outputs_list, preds_list, n_classes=3)"
   ]
  }
 ],
 "metadata": {
  "kernelspec": {
   "display_name": "Python 3",
   "language": "python",
   "name": "python3"
  },
  "language_info": {
   "codemirror_mode": {
    "name": "ipython",
    "version": 3
   },
   "file_extension": ".py",
   "mimetype": "text/x-python",
   "name": "python",
   "nbconvert_exporter": "python",
   "pygments_lexer": "ipython3",
   "version": "3.10.12"
  }
 },
 "nbformat": 4,
 "nbformat_minor": 2
}
