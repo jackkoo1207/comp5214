{
 "cells": [
  {
   "cell_type": "code",
   "execution_count": 12,
   "metadata": {
    "_cell_guid": "b1076dfc-b9ad-4769-8c92-a6c4dae69d19",
    "_uuid": "8f2839f25d086af736a60e9eeb907d3b93b6e0e5",
    "execution": {
     "iopub.execute_input": "2024-09-04T08:30:32.633434Z",
     "iopub.status.busy": "2024-09-04T08:30:32.633053Z",
     "iopub.status.idle": "2024-09-04T08:30:32.637858Z",
     "shell.execute_reply": "2024-09-04T08:30:32.636962Z",
     "shell.execute_reply.started": "2024-09-04T08:30:32.633396Z"
    },
    "trusted": true
   },
   "outputs": [],
   "source": [
    "import numpy as np\n",
    "import pandas as pd \n",
    "import torch \n",
    "import matplotlib.pyplot as plt "
   ]
  },
  {
   "cell_type": "code",
   "execution_count": 13,
   "metadata": {
    "execution": {
     "iopub.execute_input": "2024-09-04T08:30:34.641343Z",
     "iopub.status.busy": "2024-09-04T08:30:34.640659Z",
     "iopub.status.idle": "2024-09-04T08:30:34.650612Z",
     "shell.execute_reply": "2024-09-04T08:30:34.649745Z",
     "shell.execute_reply.started": "2024-09-04T08:30:34.641305Z"
    },
    "trusted": true
   },
   "outputs": [],
   "source": [
    "import torch\n",
    "from torch.utils.data import Dataset\n",
    "import torch.nn.functional as F\n",
    "import numpy as np\n",
    "\n",
    "class SuperresDataset(Dataset):\n",
    "    def __init__(self, hr_images, lr_images, max_images=None):\n",
    "        \"\"\"\n",
    "        Initialize the SuperresDataset.\n",
    "        Parameters:\n",
    "        - hr_images (numpy array): High-resolution images of shape (N, 1, 128, 128).\n",
    "        - lr_images (numpy array): Low-resolution images of shape (N, 1, 64, 64).\n",
    "        - max_images (int, optional): Maximum number of images to use.\n",
    "        \"\"\"\n",
    "        self.hr_images = torch.from_numpy(self.normalize(hr_images))\n",
    "        self.lr_images = torch.from_numpy(self.normalize(lr_images))\n",
    "        \n",
    "        if max_images is not None:\n",
    "            self.hr_images = self.hr_images[:max_images]\n",
    "            self.lr_images = self.lr_images[:max_images]\n",
    "        \n",
    "    def __len__(self):\n",
    "        return len(self.hr_images)\n",
    "\n",
    "    def __getitem__(self, idx):\n",
    "        \"\"\"\n",
    "        Get the interpolated low-resolution image and high-resolution image at the specified index.\n",
    "        Parameters:\n",
    "        - idx (int): Index of the image to retrieve.\n",
    "        Returns:\n",
    "        - tuple of torch.Tensor: Interpolated low-resolution image and high-resolution image.\n",
    "        \"\"\"\n",
    "        hr = self.hr_images[idx]\n",
    "        lr = self.lr_images[idx]\n",
    "        \n",
    "        # Interpolate LR image to the size of HR image\n",
    "        lr_interpolated = F.interpolate(lr.unsqueeze(0), size=(150, 150), mode='bilinear', align_corners=False)\n",
    "        \n",
    "        return lr_interpolated.squeeze(0), hr\n",
    "\n",
    "    @staticmethod\n",
    "    def normalize(x):\n",
    "        \"\"\"\n",
    "        Normalize the images to [0, 1] range.\n",
    "        \"\"\"\n",
    "        return (x - np.min(x)) / (np.max(x) - np.min(x))"
   ]
  },
  {
   "cell_type": "code",
   "execution_count": 14,
   "metadata": {},
   "outputs": [
    {
     "name": "stdout",
     "output_type": "stream",
     "text": [
      "(8100, 1, 150, 150)\n",
      "(8100, 1, 75, 75)\n"
     ]
    }
   ],
   "source": [
    "X_train_HR = np.load('./A_HR_train.npy').astype(np.float32) \n",
    "X_train_LR = np.load('./A_LR_train.npy').astype(np.float32)\n",
    "print(X_train_HR.shape)\n",
    "print(X_train_LR.shape)"
   ]
  },
  {
   "cell_type": "code",
   "execution_count": 15,
   "metadata": {},
   "outputs": [
    {
     "name": "stdout",
     "output_type": "stream",
     "text": [
      "(1000, 1, 150, 150)\n",
      "(1000, 1, 75, 75)\n"
     ]
    }
   ],
   "source": [
    "X_val_HR = np.load('./A_HR_val.npy').astype(np.float32)\n",
    "X_val_LR = np.load('./A_LR_val.npy').astype(np.float32)\n",
    "print(X_val_HR.shape)\n",
    "print(X_val_LR.shape)"
   ]
  },
  {
   "cell_type": "code",
   "execution_count": 16,
   "metadata": {},
   "outputs": [
    {
     "name": "stdout",
     "output_type": "stream",
     "text": [
      "(900, 1, 150, 150)\n",
      "(900, 1, 75, 75)\n"
     ]
    }
   ],
   "source": [
    "X_test_HR = np.load('./A_HR_test.npy').astype(np.float32)\n",
    "X_test_LR = np.load('./A_LR_test.npy').astype(np.float32)\n",
    "print(X_test_HR.shape)\n",
    "print(X_test_LR.shape)"
   ]
  },
  {
   "cell_type": "code",
   "execution_count": null,
   "metadata": {
    "execution": {
     "iopub.execute_input": "2024-09-04T08:30:36.054455Z",
     "iopub.status.busy": "2024-09-04T08:30:36.053573Z",
     "iopub.status.idle": "2024-09-04T08:30:36.142106Z",
     "shell.execute_reply": "2024-09-04T08:30:36.141259Z",
     "shell.execute_reply.started": "2024-09-04T08:30:36.054413Z"
    },
    "trusted": true
   },
   "outputs": [],
   "source": [
    "\n",
    "# Import required libraries\n",
    "import torch\n",
    "import numpy as np\n",
    "import torch.nn as nn\n",
    "import torch.optim as optim\n",
    "from tqdm.notebook import tqdm\n",
    "from torch.utils.data import TensorDataset, DataLoader\n",
    "batch_size = 20\n",
    "train_dataset = SuperresDataset(X_train_HR,X_train_LR)\n",
    "train_dataloader = DataLoader(train_dataset, batch_size=batch_size)\n",
    "\n",
    "val_dataset = SuperresDataset( X_val_HR,X_val_LR)\n",
    "val_dataloader = DataLoader(val_dataset, batch_size=batch_size)\n"
   ]
  },
  {
   "cell_type": "code",
   "execution_count": 46,
   "metadata": {},
   "outputs": [],
   "source": [
    "test_dataset = SuperresDataset( X_test_HR,X_test_LR)\n",
    "test_dataloader = DataLoader(test_dataset, batch_size=batch_size)"
   ]
  },
  {
   "cell_type": "code",
   "execution_count": 18,
   "metadata": {
    "execution": {
     "iopub.execute_input": "2024-09-04T08:30:37.491090Z",
     "iopub.status.busy": "2024-09-04T08:30:37.490133Z",
     "iopub.status.idle": "2024-09-04T08:30:37.501279Z",
     "shell.execute_reply": "2024-09-04T08:30:37.500261Z",
     "shell.execute_reply.started": "2024-09-04T08:30:37.491044Z"
    },
    "trusted": true
   },
   "outputs": [
    {
     "name": "stdout",
     "output_type": "stream",
     "text": [
      "Min value: 0.0, Max value: 1.0\n"
     ]
    }
   ],
   "source": [
    "dataiter = iter(train_dataloader)\n",
    "batch = next(dataiter)\n",
    "\n",
    "hr_images = batch[1]\n",
    "min_val = hr_images.min().item()\n",
    "max_val = hr_images.max().item()\n",
    "\n",
    "print(f\"Min value: {min_val}, Max value: {max_val}\")"
   ]
  },
  {
   "cell_type": "code",
   "execution_count": 24,
   "metadata": {
    "execution": {
     "iopub.execute_input": "2024-09-04T08:30:38.241885Z",
     "iopub.status.busy": "2024-09-04T08:30:38.241110Z",
     "iopub.status.idle": "2024-09-04T08:30:38.257966Z",
     "shell.execute_reply": "2024-09-04T08:30:38.257079Z",
     "shell.execute_reply.started": "2024-09-04T08:30:38.241846Z"
    },
    "trusted": true
   },
   "outputs": [],
   "source": [
    "import torch\n",
    "import torch.nn as nn\n",
    "\n",
    "class ResidualBlock(nn.Module):\n",
    "    def __init__(self, channels):\n",
    "        super(ResidualBlock, self).__init__()\n",
    "        self.conv1 = nn.Conv2d(channels, channels, kernel_size=3, padding=1)\n",
    "        self.bn1 = nn.BatchNorm2d(channels)\n",
    "        self.relu = nn.ReLU(inplace=True)\n",
    "        self.conv2 = nn.Conv2d(channels, channels, kernel_size=3, padding=1)\n",
    "        self.bn2 = nn.BatchNorm2d(channels)\n",
    "\n",
    "    def forward(self, x):\n",
    "        residual = x\n",
    "        out = self.relu(self.bn1(self.conv1(x)))\n",
    "        out = self.bn2(self.conv2(out))\n",
    "        out += residual\n",
    "        return out\n",
    "\n",
    "class Generator(nn.Module):\n",
    "    def __init__(self, num_channels=1, num_blocks=8,lr_size=16):\n",
    "        super(Generator, self).__init__()\n",
    "        \n",
    "        self.conv1 = nn.Conv2d(num_channels, lr_size, kernel_size=9, padding=4)\n",
    "        self.relu = nn.ReLU(inplace=True)\n",
    "        \n",
    "        res_blocks = [ResidualBlock(lr_size) for _ in range(num_blocks)]\n",
    "        self.res_blocks = nn.Sequential(*res_blocks)\n",
    "        \n",
    "        self.conv2 = nn.Conv2d(lr_size, lr_size, kernel_size=3, padding=1)\n",
    "        self.bn2 = nn.BatchNorm2d(lr_size)\n",
    "        \n",
    "        self.conv3 = nn.Conv2d(lr_size, num_channels, kernel_size=9, padding=4)\n",
    "\n",
    "    def forward(self, x):\n",
    "        x = self.relu(self.conv1(x))\n",
    "        residual = x\n",
    "        x = self.res_blocks(x)\n",
    "        x = self.bn2(self.conv2(x))\n",
    "        x += residual\n",
    "        x = self.conv3(x)\n",
    "        return x\n",
    "\n",
    "class Discriminator(nn.Module):\n",
    "    def __init__(self, num_channels=1):\n",
    "        super(Discriminator, self).__init__()\n",
    "        \n",
    "        def discriminator_block(in_channels, out_channels, stride):\n",
    "            return nn.Sequential(\n",
    "                nn.Conv2d(in_channels, out_channels, 3, stride, 1),\n",
    "                nn.LeakyReLU(0.2, inplace=True),\n",
    "                nn.BatchNorm2d(out_channels),\n",
    "            )\n",
    "        \n",
    "        self.model = nn.Sequential(\n",
    "            discriminator_block(num_channels, 16, 1),\n",
    "            discriminator_block(16, 16, 2),\n",
    "            discriminator_block(16, 32, 1),\n",
    "            discriminator_block(32, 32, 2),\n",
    "            discriminator_block(32, 64, 1),\n",
    "            discriminator_block(64, 64, 2),\n",
    "            discriminator_block(64, 128, 1),\n",
    "            nn.AdaptiveAvgPool2d(1),\n",
    "            nn.Conv2d(128, 256, kernel_size=1),\n",
    "            nn.LeakyReLU(0.2, inplace=True),\n",
    "            nn.Conv2d(256, 1, kernel_size=1)\n",
    "        )\n",
    "\n",
    "    def forward(self, x):\n",
    "        batch_size = x.size(0)\n",
    "        return torch.sigmoid(self.model(x).view(batch_size))"
   ]
  },
  {
   "cell_type": "code",
   "execution_count": null,
   "metadata": {
    "execution": {
     "iopub.execute_input": "2024-09-04T08:31:24.672251Z",
     "iopub.status.busy": "2024-09-04T08:31:24.671855Z",
     "iopub.status.idle": "2024-09-04T08:31:24.687979Z",
     "shell.execute_reply": "2024-09-04T08:31:24.686967Z",
     "shell.execute_reply.started": "2024-09-04T08:31:24.672213Z"
    },
    "trusted": true
   },
   "outputs": [],
   "source": [
    "import torch\n",
    "from tqdm import tqdm\n",
    "import torch.nn as nn\n",
    "import os\n",
    "D_loss=[]\n",
    "G_loss=[]\n",
    "tot_loss=[]\n",
    "def train_srgan(generator, discriminator, train_loader, content_criterion, adversarial_criterion, \n",
    "                gen_optimizer, disc_optimizer, scheduler, device, num_epochs=30, save_dir='./Model'):\n",
    "    generator.to(device)\n",
    "    discriminator.to(device)\n",
    "    \n",
    "    best_total_loss = float('inf') \n",
    "    for epoch in range(num_epochs):\n",
    "        generator.train()\n",
    "        discriminator.train()\n",
    "        \n",
    "        running_g_loss = 0.0\n",
    "        running_d_loss = 0.0\n",
    "        total_batches = len(train_loader)\n",
    "        \n",
    "        pbar = tqdm(train_loader, desc=f'Epoch {epoch + 1}/{num_epochs}', leave=False)\n",
    "        \n",
    "        for data in pbar:\n",
    "            lr, hr = data[0].to(device), data[1].to(device)\n",
    "          \n",
    "            # Train Discriminator\n",
    "            disc_optimizer.zero_grad()\n",
    "            \n",
    "            sr = generator(lr)\n",
    "            real_output = discriminator(hr)\n",
    "            fake_output = discriminator(sr.detach())\n",
    "            \n",
    "            d_loss_real = adversarial_criterion(real_output, torch.ones_like(real_output))\n",
    "            d_loss_fake = adversarial_criterion(fake_output, torch.zeros_like(fake_output))\n",
    "            d_loss = d_loss_real + d_loss_fake\n",
    "            \n",
    "            d_loss.backward()\n",
    "            disc_optimizer.step()\n",
    "            \n",
    "            # Train Generator\n",
    "            gen_optimizer.zero_grad()\n",
    "            \n",
    "            sr = generator(lr)\n",
    "            fake_output = discriminator(sr)\n",
    "            \n",
    "            content_loss = content_criterion(sr, hr)\n",
    "            adversarial_loss = adversarial_criterion(fake_output, torch.ones_like(fake_output))\n",
    "            g_loss = content_loss + 1e-3 * adversarial_loss  # The factor 1e-3 balances the two losses\n",
    "            \n",
    "            g_loss.backward()\n",
    "            gen_optimizer.step()\n",
    "            \n",
    "            running_g_loss += g_loss.item()\n",
    "            running_d_loss += d_loss.item()\n",
    "            \n",
    "            pbar.set_postfix({'G_loss': f'{g_loss.item():.8f}', 'D_loss': f'{d_loss.item():.8f}'})\n",
    "        \n",
    "        # Step the scheduler after each epoch\n",
    "        scheduler.step()\n",
    "        \n",
    "        # Calculate average losses for the epoch\n",
    "        epoch_g_loss = running_g_loss / total_batches\n",
    "        epoch_d_loss = running_d_loss / total_batches\n",
    "        epoch_total_loss = epoch_g_loss + epoch_d_loss\n",
    "        D_loss.append(epoch_d_loss)\n",
    "        G_loss.append(epoch_g_loss)\n",
    "        tot_loss.append(epoch_total_loss)\n",
    "        \n",
    "        print(f'Epoch {epoch + 1}/{num_epochs}, G_Loss: {epoch_g_loss:.8f}, D_Loss: {epoch_d_loss:.8f}, Total Loss: {epoch_total_loss:.8f}')\n",
    "        \n",
    "        # Save the best model based on total loss\n",
    "        if epoch_total_loss < best_total_loss:\n",
    "            best_total_loss = epoch_total_loss\n",
    "            torch.save({\n",
    "                'epoch': epoch,\n",
    "                'generator_state_dict': generator.state_dict(),\n",
    "                'discriminator_state_dict': discriminator.state_dict(),\n",
    "                'gen_optimizer_state_dict': gen_optimizer.state_dict(),\n",
    "                'disc_optimizer_state_dict': disc_optimizer.state_dict(),\n",
    "                'scheduler_state_dict': scheduler.state_dict(),\n",
    "                'g_loss': epoch_g_loss,\n",
    "                'd_loss': epoch_d_loss,\n",
    "                'total_loss': epoch_total_loss,\n",
    "            }, os.path.join(save_dir, 'best_model.pth'))\n",
    "            print(f'New best model saved with Total Loss: {epoch_total_loss:.8f}')\n",
    "    \n",
    "    print('Finished Training')\n"
   ]
  },
  {
   "cell_type": "code",
   "execution_count": 26,
   "metadata": {},
   "outputs": [
    {
     "name": "stdout",
     "output_type": "stream",
     "text": [
      "----------------------------------------------------------------\n",
      "        Layer (type)               Output Shape         Param #\n",
      "================================================================\n",
      "            Conv2d-1         [-1, 16, 150, 150]           1,312\n",
      "              ReLU-2         [-1, 16, 150, 150]               0\n",
      "            Conv2d-3         [-1, 16, 150, 150]           2,320\n",
      "       BatchNorm2d-4         [-1, 16, 150, 150]              32\n",
      "              ReLU-5         [-1, 16, 150, 150]               0\n",
      "            Conv2d-6         [-1, 16, 150, 150]           2,320\n",
      "       BatchNorm2d-7         [-1, 16, 150, 150]              32\n",
      "     ResidualBlock-8         [-1, 16, 150, 150]               0\n",
      "            Conv2d-9         [-1, 16, 150, 150]           2,320\n",
      "      BatchNorm2d-10         [-1, 16, 150, 150]              32\n",
      "             ReLU-11         [-1, 16, 150, 150]               0\n",
      "           Conv2d-12         [-1, 16, 150, 150]           2,320\n",
      "      BatchNorm2d-13         [-1, 16, 150, 150]              32\n",
      "    ResidualBlock-14         [-1, 16, 150, 150]               0\n",
      "           Conv2d-15         [-1, 16, 150, 150]           2,320\n",
      "      BatchNorm2d-16         [-1, 16, 150, 150]              32\n",
      "             ReLU-17         [-1, 16, 150, 150]               0\n",
      "           Conv2d-18         [-1, 16, 150, 150]           2,320\n",
      "      BatchNorm2d-19         [-1, 16, 150, 150]              32\n",
      "    ResidualBlock-20         [-1, 16, 150, 150]               0\n",
      "           Conv2d-21         [-1, 16, 150, 150]           2,320\n",
      "      BatchNorm2d-22         [-1, 16, 150, 150]              32\n",
      "             ReLU-23         [-1, 16, 150, 150]               0\n",
      "           Conv2d-24         [-1, 16, 150, 150]           2,320\n",
      "      BatchNorm2d-25         [-1, 16, 150, 150]              32\n",
      "    ResidualBlock-26         [-1, 16, 150, 150]               0\n",
      "           Conv2d-27         [-1, 16, 150, 150]           2,320\n",
      "      BatchNorm2d-28         [-1, 16, 150, 150]              32\n",
      "             ReLU-29         [-1, 16, 150, 150]               0\n",
      "           Conv2d-30         [-1, 16, 150, 150]           2,320\n",
      "      BatchNorm2d-31         [-1, 16, 150, 150]              32\n",
      "    ResidualBlock-32         [-1, 16, 150, 150]               0\n",
      "           Conv2d-33         [-1, 16, 150, 150]           2,320\n",
      "      BatchNorm2d-34         [-1, 16, 150, 150]              32\n",
      "             ReLU-35         [-1, 16, 150, 150]               0\n",
      "           Conv2d-36         [-1, 16, 150, 150]           2,320\n",
      "      BatchNorm2d-37         [-1, 16, 150, 150]              32\n",
      "    ResidualBlock-38         [-1, 16, 150, 150]               0\n",
      "           Conv2d-39         [-1, 16, 150, 150]           2,320\n",
      "      BatchNorm2d-40         [-1, 16, 150, 150]              32\n",
      "             ReLU-41         [-1, 16, 150, 150]               0\n",
      "           Conv2d-42         [-1, 16, 150, 150]           2,320\n",
      "      BatchNorm2d-43         [-1, 16, 150, 150]              32\n",
      "    ResidualBlock-44         [-1, 16, 150, 150]               0\n",
      "           Conv2d-45         [-1, 16, 150, 150]           2,320\n",
      "      BatchNorm2d-46         [-1, 16, 150, 150]              32\n",
      "             ReLU-47         [-1, 16, 150, 150]               0\n",
      "           Conv2d-48         [-1, 16, 150, 150]           2,320\n",
      "      BatchNorm2d-49         [-1, 16, 150, 150]              32\n",
      "    ResidualBlock-50         [-1, 16, 150, 150]               0\n",
      "           Conv2d-51         [-1, 16, 150, 150]           2,320\n",
      "      BatchNorm2d-52         [-1, 16, 150, 150]              32\n",
      "           Conv2d-53          [-1, 1, 150, 150]           1,297\n",
      "================================================================\n",
      "Total params: 42,593\n",
      "Trainable params: 42,593\n",
      "Non-trainable params: 0\n",
      "----------------------------------------------------------------\n",
      "Input size (MB): 0.09\n",
      "Forward/backward pass size (MB): 142.99\n",
      "Params size (MB): 0.16\n",
      "Estimated Total Size (MB): 143.24\n",
      "----------------------------------------------------------------\n"
     ]
    }
   ],
   "source": [
    "from torchsummary import summary\n",
    "generator = Generator(num_channels=1).to('cuda')  \n",
    "discriminator = Discriminator(num_channels=1).to('cuda') \n",
    "summary(generator,(1,150,150))"
   ]
  },
  {
   "cell_type": "code",
   "execution_count": 27,
   "metadata": {},
   "outputs": [
    {
     "name": "stdout",
     "output_type": "stream",
     "text": [
      "----------------------------------------------------------------\n",
      "        Layer (type)               Output Shape         Param #\n",
      "================================================================\n",
      "            Conv2d-1         [-1, 16, 150, 150]             160\n",
      "         LeakyReLU-2         [-1, 16, 150, 150]               0\n",
      "       BatchNorm2d-3         [-1, 16, 150, 150]              32\n",
      "            Conv2d-4           [-1, 16, 75, 75]           2,320\n",
      "         LeakyReLU-5           [-1, 16, 75, 75]               0\n",
      "       BatchNorm2d-6           [-1, 16, 75, 75]              32\n",
      "            Conv2d-7           [-1, 32, 75, 75]           4,640\n",
      "         LeakyReLU-8           [-1, 32, 75, 75]               0\n",
      "       BatchNorm2d-9           [-1, 32, 75, 75]              64\n",
      "           Conv2d-10           [-1, 32, 38, 38]           9,248\n",
      "        LeakyReLU-11           [-1, 32, 38, 38]               0\n",
      "      BatchNorm2d-12           [-1, 32, 38, 38]              64\n",
      "           Conv2d-13           [-1, 64, 38, 38]          18,496\n",
      "        LeakyReLU-14           [-1, 64, 38, 38]               0\n",
      "      BatchNorm2d-15           [-1, 64, 38, 38]             128\n",
      "           Conv2d-16           [-1, 64, 19, 19]          36,928\n",
      "        LeakyReLU-17           [-1, 64, 19, 19]               0\n",
      "      BatchNorm2d-18           [-1, 64, 19, 19]             128\n",
      "           Conv2d-19          [-1, 128, 19, 19]          73,856\n",
      "        LeakyReLU-20          [-1, 128, 19, 19]               0\n",
      "      BatchNorm2d-21          [-1, 128, 19, 19]             256\n",
      "AdaptiveAvgPool2d-22            [-1, 128, 1, 1]               0\n",
      "           Conv2d-23            [-1, 256, 1, 1]          33,024\n",
      "        LeakyReLU-24            [-1, 256, 1, 1]               0\n",
      "           Conv2d-25              [-1, 1, 1, 1]             257\n",
      "================================================================\n",
      "Total params: 179,633\n",
      "Trainable params: 179,633\n",
      "Non-trainable params: 0\n",
      "----------------------------------------------------------------\n",
      "Input size (MB): 0.09\n",
      "Forward/backward pass size (MB): 19.18\n",
      "Params size (MB): 0.69\n",
      "Estimated Total Size (MB): 19.95\n",
      "----------------------------------------------------------------\n"
     ]
    }
   ],
   "source": [
    "summary(discriminator ,(1,150,150))"
   ]
  },
  {
   "cell_type": "code",
   "execution_count": 37,
   "metadata": {
    "execution": {
     "iopub.execute_input": "2024-09-04T12:30:30.244367Z",
     "iopub.status.busy": "2024-09-04T12:30:30.243668Z",
     "iopub.status.idle": "2024-09-04T13:08:18.272950Z",
     "shell.execute_reply": "2024-09-04T13:08:18.272040Z",
     "shell.execute_reply.started": "2024-09-04T12:30:30.244326Z"
    },
    "trusted": true
   },
   "outputs": [
    {
     "name": "stdout",
     "output_type": "stream",
     "text": [
      "Using device: cuda\n"
     ]
    },
    {
     "name": "stderr",
     "output_type": "stream",
     "text": [
      "                                                                                                   \r"
     ]
    },
    {
     "name": "stdout",
     "output_type": "stream",
     "text": [
      "Epoch 1/60, G_Loss: 0.01858462, D_Loss: 0.58634635, Total Loss: 0.60493097\n",
      "New best model saved with Total Loss: 0.60493097\n"
     ]
    },
    {
     "name": "stderr",
     "output_type": "stream",
     "text": [
      "                                                                                                       \r"
     ]
    },
    {
     "name": "stdout",
     "output_type": "stream",
     "text": [
      "Epoch 2/60, G_Loss: 0.01283695, D_Loss: 0.16935444, Total Loss: 0.18219139\n",
      "New best model saved with Total Loss: 0.18219139\n"
     ]
    },
    {
     "name": "stderr",
     "output_type": "stream",
     "text": [
      "                                                                                                   \r"
     ]
    },
    {
     "name": "stdout",
     "output_type": "stream",
     "text": [
      "Epoch 3/60, G_Loss: 0.01337112, D_Loss: 0.05446278, Total Loss: 0.06783389\n",
      "New best model saved with Total Loss: 0.06783389\n"
     ]
    },
    {
     "name": "stderr",
     "output_type": "stream",
     "text": [
      "                                                                                                   \r"
     ]
    },
    {
     "name": "stdout",
     "output_type": "stream",
     "text": [
      "Epoch 4/60, G_Loss: 0.01258470, D_Loss: 0.47190597, Total Loss: 0.48449067\n"
     ]
    },
    {
     "name": "stderr",
     "output_type": "stream",
     "text": [
      "                                                                                                   \r"
     ]
    },
    {
     "name": "stdout",
     "output_type": "stream",
     "text": [
      "Epoch 5/60, G_Loss: 0.01117125, D_Loss: 0.51888932, Total Loss: 0.53006058\n"
     ]
    },
    {
     "name": "stderr",
     "output_type": "stream",
     "text": [
      "                                                                                                   \r"
     ]
    },
    {
     "name": "stdout",
     "output_type": "stream",
     "text": [
      "Epoch 6/60, G_Loss: 0.01084579, D_Loss: 0.06496059, Total Loss: 0.07580638\n"
     ]
    },
    {
     "name": "stderr",
     "output_type": "stream",
     "text": [
      "                                                                                                   \r"
     ]
    },
    {
     "name": "stdout",
     "output_type": "stream",
     "text": [
      "Epoch 7/60, G_Loss: 0.01157794, D_Loss: 0.04481641, Total Loss: 0.05639436\n",
      "New best model saved with Total Loss: 0.05639436\n"
     ]
    },
    {
     "name": "stderr",
     "output_type": "stream",
     "text": [
      "                                                                                                   \r"
     ]
    },
    {
     "name": "stdout",
     "output_type": "stream",
     "text": [
      "Epoch 8/60, G_Loss: 0.01176219, D_Loss: 0.03180677, Total Loss: 0.04356896\n",
      "New best model saved with Total Loss: 0.04356896\n"
     ]
    },
    {
     "name": "stderr",
     "output_type": "stream",
     "text": [
      "                                                                                                   \r"
     ]
    },
    {
     "name": "stdout",
     "output_type": "stream",
     "text": [
      "Epoch 9/60, G_Loss: 0.01228038, D_Loss: 0.03446077, Total Loss: 0.04674115\n"
     ]
    },
    {
     "name": "stderr",
     "output_type": "stream",
     "text": [
      "                                                                                                    \r"
     ]
    },
    {
     "name": "stdout",
     "output_type": "stream",
     "text": [
      "Epoch 10/60, G_Loss: 0.01228105, D_Loss: 0.03845270, Total Loss: 0.05073376\n"
     ]
    },
    {
     "name": "stderr",
     "output_type": "stream",
     "text": [
      "                                                                                                    \r"
     ]
    },
    {
     "name": "stdout",
     "output_type": "stream",
     "text": [
      "Epoch 11/60, G_Loss: 0.01173643, D_Loss: 0.01646028, Total Loss: 0.02819671\n",
      "New best model saved with Total Loss: 0.02819671\n"
     ]
    },
    {
     "name": "stderr",
     "output_type": "stream",
     "text": [
      "                                                                                                    \r"
     ]
    },
    {
     "name": "stdout",
     "output_type": "stream",
     "text": [
      "Epoch 12/60, G_Loss: 0.01192279, D_Loss: 0.01216567, Total Loss: 0.02408846\n",
      "New best model saved with Total Loss: 0.02408846\n"
     ]
    },
    {
     "name": "stderr",
     "output_type": "stream",
     "text": [
      "                                                                                                    \r"
     ]
    },
    {
     "name": "stdout",
     "output_type": "stream",
     "text": [
      "Epoch 13/60, G_Loss: 0.01220283, D_Loss: 0.01233317, Total Loss: 0.02453599\n"
     ]
    },
    {
     "name": "stderr",
     "output_type": "stream",
     "text": [
      "                                                                                                    \r"
     ]
    },
    {
     "name": "stdout",
     "output_type": "stream",
     "text": [
      "Epoch 14/60, G_Loss: 0.01254965, D_Loss: 0.00828676, Total Loss: 0.02083641\n",
      "New best model saved with Total Loss: 0.02083641\n"
     ]
    },
    {
     "name": "stderr",
     "output_type": "stream",
     "text": [
      "                                                                                                    \r"
     ]
    },
    {
     "name": "stdout",
     "output_type": "stream",
     "text": [
      "Epoch 15/60, G_Loss: 0.01305928, D_Loss: 0.00769406, Total Loss: 0.02075334\n",
      "New best model saved with Total Loss: 0.02075334\n"
     ]
    },
    {
     "name": "stderr",
     "output_type": "stream",
     "text": [
      "                                                                                                    \r"
     ]
    },
    {
     "name": "stdout",
     "output_type": "stream",
     "text": [
      "Epoch 16/60, G_Loss: 0.01281819, D_Loss: 0.01707615, Total Loss: 0.02989434\n"
     ]
    },
    {
     "name": "stderr",
     "output_type": "stream",
     "text": [
      "                                                                                                    \r"
     ]
    },
    {
     "name": "stdout",
     "output_type": "stream",
     "text": [
      "Epoch 17/60, G_Loss: 0.01233935, D_Loss: 0.11995447, Total Loss: 0.13229381\n"
     ]
    },
    {
     "name": "stderr",
     "output_type": "stream",
     "text": [
      "                                                                                                    \r"
     ]
    },
    {
     "name": "stdout",
     "output_type": "stream",
     "text": [
      "Epoch 18/60, G_Loss: 0.01196338, D_Loss: 0.00880579, Total Loss: 0.02076917\n"
     ]
    },
    {
     "name": "stderr",
     "output_type": "stream",
     "text": [
      "                                                                                                    \r"
     ]
    },
    {
     "name": "stdout",
     "output_type": "stream",
     "text": [
      "Epoch 19/60, G_Loss: 0.01306703, D_Loss: 0.03840355, Total Loss: 0.05147058\n"
     ]
    },
    {
     "name": "stderr",
     "output_type": "stream",
     "text": [
      "                                                                                                    \r"
     ]
    },
    {
     "name": "stdout",
     "output_type": "stream",
     "text": [
      "Epoch 20/60, G_Loss: 0.01300048, D_Loss: 0.00597589, Total Loss: 0.01897637\n",
      "New best model saved with Total Loss: 0.01897637\n"
     ]
    },
    {
     "name": "stderr",
     "output_type": "stream",
     "text": [
      "                                                                                                    \r"
     ]
    },
    {
     "name": "stdout",
     "output_type": "stream",
     "text": [
      "Epoch 21/60, G_Loss: 0.01312888, D_Loss: 0.08690997, Total Loss: 0.10003885\n"
     ]
    },
    {
     "name": "stderr",
     "output_type": "stream",
     "text": [
      "                                                                                                    \r"
     ]
    },
    {
     "name": "stdout",
     "output_type": "stream",
     "text": [
      "Epoch 22/60, G_Loss: 0.01129243, D_Loss: 0.39989411, Total Loss: 0.41118654\n"
     ]
    },
    {
     "name": "stderr",
     "output_type": "stream",
     "text": [
      "                                                                                                    \r"
     ]
    },
    {
     "name": "stdout",
     "output_type": "stream",
     "text": [
      "Epoch 23/60, G_Loss: 0.01154910, D_Loss: 0.30452107, Total Loss: 0.31607018\n"
     ]
    },
    {
     "name": "stderr",
     "output_type": "stream",
     "text": [
      "                                                                                                    \r"
     ]
    },
    {
     "name": "stdout",
     "output_type": "stream",
     "text": [
      "Epoch 24/60, G_Loss: 0.01158448, D_Loss: 0.35157028, Total Loss: 0.36315477\n"
     ]
    },
    {
     "name": "stderr",
     "output_type": "stream",
     "text": [
      "                                                                                                    \r"
     ]
    },
    {
     "name": "stdout",
     "output_type": "stream",
     "text": [
      "Epoch 25/60, G_Loss: 0.01143953, D_Loss: 0.38943289, Total Loss: 0.40087242\n"
     ]
    },
    {
     "name": "stderr",
     "output_type": "stream",
     "text": [
      "                                                                                                    \r"
     ]
    },
    {
     "name": "stdout",
     "output_type": "stream",
     "text": [
      "Epoch 26/60, G_Loss: 0.01129847, D_Loss: 0.38763771, Total Loss: 0.39893618\n"
     ]
    },
    {
     "name": "stderr",
     "output_type": "stream",
     "text": [
      "                                                                                                    \r"
     ]
    },
    {
     "name": "stdout",
     "output_type": "stream",
     "text": [
      "Epoch 27/60, G_Loss: 0.01107150, D_Loss: 0.46595379, Total Loss: 0.47702529\n"
     ]
    },
    {
     "name": "stderr",
     "output_type": "stream",
     "text": [
      "                                                                                                    \r"
     ]
    },
    {
     "name": "stdout",
     "output_type": "stream",
     "text": [
      "Epoch 28/60, G_Loss: 0.01083422, D_Loss: 0.53793679, Total Loss: 0.54877101\n"
     ]
    },
    {
     "name": "stderr",
     "output_type": "stream",
     "text": [
      "                                                                                                    \r"
     ]
    },
    {
     "name": "stdout",
     "output_type": "stream",
     "text": [
      "Epoch 29/60, G_Loss: 0.01072951, D_Loss: 0.48763729, Total Loss: 0.49836680\n"
     ]
    },
    {
     "name": "stderr",
     "output_type": "stream",
     "text": [
      "                                                                                                    \r"
     ]
    },
    {
     "name": "stdout",
     "output_type": "stream",
     "text": [
      "Epoch 30/60, G_Loss: 0.01126914, D_Loss: 0.39799065, Total Loss: 0.40925979\n"
     ]
    },
    {
     "name": "stderr",
     "output_type": "stream",
     "text": [
      "                                                                                                    \r"
     ]
    },
    {
     "name": "stdout",
     "output_type": "stream",
     "text": [
      "Epoch 31/60, G_Loss: 0.01112427, D_Loss: 0.44950180, Total Loss: 0.46062607\n"
     ]
    },
    {
     "name": "stderr",
     "output_type": "stream",
     "text": [
      "                                                                                                    \r"
     ]
    },
    {
     "name": "stdout",
     "output_type": "stream",
     "text": [
      "Epoch 32/60, G_Loss: 0.01125917, D_Loss: 0.36573544, Total Loss: 0.37699461\n"
     ]
    },
    {
     "name": "stderr",
     "output_type": "stream",
     "text": [
      "                                                                                                    \r"
     ]
    },
    {
     "name": "stdout",
     "output_type": "stream",
     "text": [
      "Epoch 33/60, G_Loss: 0.01127927, D_Loss: 0.37955947, Total Loss: 0.39083873\n"
     ]
    },
    {
     "name": "stderr",
     "output_type": "stream",
     "text": [
      "                                                                                                    \r"
     ]
    },
    {
     "name": "stdout",
     "output_type": "stream",
     "text": [
      "Epoch 34/60, G_Loss: 0.01132399, D_Loss: 0.36379652, Total Loss: 0.37512051\n"
     ]
    },
    {
     "name": "stderr",
     "output_type": "stream",
     "text": [
      "                                                                                                    \r"
     ]
    },
    {
     "name": "stdout",
     "output_type": "stream",
     "text": [
      "Epoch 35/60, G_Loss: 0.01148446, D_Loss: 0.37368249, Total Loss: 0.38516695\n"
     ]
    },
    {
     "name": "stderr",
     "output_type": "stream",
     "text": [
      "                                                                                                    \r"
     ]
    },
    {
     "name": "stdout",
     "output_type": "stream",
     "text": [
      "Epoch 36/60, G_Loss: 0.01127274, D_Loss: 0.42841365, Total Loss: 0.43968639\n"
     ]
    },
    {
     "name": "stderr",
     "output_type": "stream",
     "text": [
      "                                                                                                    \r"
     ]
    },
    {
     "name": "stdout",
     "output_type": "stream",
     "text": [
      "Epoch 37/60, G_Loss: 0.01125957, D_Loss: 0.42405419, Total Loss: 0.43531376\n"
     ]
    },
    {
     "name": "stderr",
     "output_type": "stream",
     "text": [
      "                                                                                                    \r"
     ]
    },
    {
     "name": "stdout",
     "output_type": "stream",
     "text": [
      "Epoch 38/60, G_Loss: 0.01131965, D_Loss: 0.38646670, Total Loss: 0.39778635\n"
     ]
    },
    {
     "name": "stderr",
     "output_type": "stream",
     "text": [
      "                                                                                                    \r"
     ]
    },
    {
     "name": "stdout",
     "output_type": "stream",
     "text": [
      "Epoch 39/60, G_Loss: 0.01141973, D_Loss: 0.36377095, Total Loss: 0.37519067\n"
     ]
    },
    {
     "name": "stderr",
     "output_type": "stream",
     "text": [
      "                                                                                                    \r"
     ]
    },
    {
     "name": "stdout",
     "output_type": "stream",
     "text": [
      "Epoch 40/60, G_Loss: 0.01152418, D_Loss: 0.37761646, Total Loss: 0.38914063\n"
     ]
    },
    {
     "name": "stderr",
     "output_type": "stream",
     "text": [
      "                                                                                                    \r"
     ]
    },
    {
     "name": "stdout",
     "output_type": "stream",
     "text": [
      "Epoch 41/60, G_Loss: 0.01115936, D_Loss: 0.45562706, Total Loss: 0.46678643\n"
     ]
    },
    {
     "name": "stderr",
     "output_type": "stream",
     "text": [
      "                                                                                                    \r"
     ]
    },
    {
     "name": "stdout",
     "output_type": "stream",
     "text": [
      "Epoch 42/60, G_Loss: 0.01136402, D_Loss: 0.32331844, Total Loss: 0.33468246\n"
     ]
    },
    {
     "name": "stderr",
     "output_type": "stream",
     "text": [
      "                                                                                                    \r"
     ]
    },
    {
     "name": "stdout",
     "output_type": "stream",
     "text": [
      "Epoch 43/60, G_Loss: 0.01155047, D_Loss: 0.30766710, Total Loss: 0.31921758\n"
     ]
    },
    {
     "name": "stderr",
     "output_type": "stream",
     "text": [
      "                                                                                                    \r"
     ]
    },
    {
     "name": "stdout",
     "output_type": "stream",
     "text": [
      "Epoch 44/60, G_Loss: 0.01179899, D_Loss: 0.26128256, Total Loss: 0.27308155\n"
     ]
    },
    {
     "name": "stderr",
     "output_type": "stream",
     "text": [
      "                                                                                                      \r"
     ]
    },
    {
     "name": "stdout",
     "output_type": "stream",
     "text": [
      "Epoch 45/60, G_Loss: 0.01218085, D_Loss: 0.24144045, Total Loss: 0.25362130\n"
     ]
    },
    {
     "name": "stderr",
     "output_type": "stream",
     "text": [
      "                                                                                                    \r"
     ]
    },
    {
     "name": "stdout",
     "output_type": "stream",
     "text": [
      "Epoch 46/60, G_Loss: 0.01238414, D_Loss: 0.27017708, Total Loss: 0.28256122\n"
     ]
    },
    {
     "name": "stderr",
     "output_type": "stream",
     "text": [
      "                                                                                                    \r"
     ]
    },
    {
     "name": "stdout",
     "output_type": "stream",
     "text": [
      "Epoch 47/60, G_Loss: 0.01233121, D_Loss: 0.34045645, Total Loss: 0.35278765\n"
     ]
    },
    {
     "name": "stderr",
     "output_type": "stream",
     "text": [
      "                                                                                                    \r"
     ]
    },
    {
     "name": "stdout",
     "output_type": "stream",
     "text": [
      "Epoch 48/60, G_Loss: 0.01217260, D_Loss: 0.30648578, Total Loss: 0.31865838\n"
     ]
    },
    {
     "name": "stderr",
     "output_type": "stream",
     "text": [
      "                                                                                                    \r"
     ]
    },
    {
     "name": "stdout",
     "output_type": "stream",
     "text": [
      "Epoch 49/60, G_Loss: 0.01213791, D_Loss: 0.31005596, Total Loss: 0.32219387\n"
     ]
    },
    {
     "name": "stderr",
     "output_type": "stream",
     "text": [
      "                                                                                                    \r"
     ]
    },
    {
     "name": "stdout",
     "output_type": "stream",
     "text": [
      "Epoch 50/60, G_Loss: 0.01203974, D_Loss: 0.31487292, Total Loss: 0.32691266\n"
     ]
    },
    {
     "name": "stderr",
     "output_type": "stream",
     "text": [
      "                                                                                                    \r"
     ]
    },
    {
     "name": "stdout",
     "output_type": "stream",
     "text": [
      "Epoch 51/60, G_Loss: 0.01206458, D_Loss: 0.27361405, Total Loss: 0.28567863\n"
     ]
    },
    {
     "name": "stderr",
     "output_type": "stream",
     "text": [
      "                                                                                                    \r"
     ]
    },
    {
     "name": "stdout",
     "output_type": "stream",
     "text": [
      "Epoch 52/60, G_Loss: 0.01229322, D_Loss: 0.25791909, Total Loss: 0.27021231\n"
     ]
    },
    {
     "name": "stderr",
     "output_type": "stream",
     "text": [
      "                                                                                                    \r"
     ]
    },
    {
     "name": "stdout",
     "output_type": "stream",
     "text": [
      "Epoch 53/60, G_Loss: 0.01254283, D_Loss: 0.20180448, Total Loss: 0.21434731\n"
     ]
    },
    {
     "name": "stderr",
     "output_type": "stream",
     "text": [
      "                                                                                                    \r"
     ]
    },
    {
     "name": "stdout",
     "output_type": "stream",
     "text": [
      "Epoch 54/60, G_Loss: 0.01272152, D_Loss: 0.20081200, Total Loss: 0.21353352\n"
     ]
    },
    {
     "name": "stderr",
     "output_type": "stream",
     "text": [
      "                                                                                                    \r"
     ]
    },
    {
     "name": "stdout",
     "output_type": "stream",
     "text": [
      "Epoch 55/60, G_Loss: 0.01268541, D_Loss: 0.23481029, Total Loss: 0.24749570\n"
     ]
    },
    {
     "name": "stderr",
     "output_type": "stream",
     "text": [
      "                                                                                                    \r"
     ]
    },
    {
     "name": "stdout",
     "output_type": "stream",
     "text": [
      "Epoch 56/60, G_Loss: 0.01267907, D_Loss: 0.25566366, Total Loss: 0.26834273\n"
     ]
    },
    {
     "name": "stderr",
     "output_type": "stream",
     "text": [
      "                                                                                                    \r"
     ]
    },
    {
     "name": "stdout",
     "output_type": "stream",
     "text": [
      "Epoch 57/60, G_Loss: 0.01282336, D_Loss: 0.16710959, Total Loss: 0.17993295\n"
     ]
    },
    {
     "name": "stderr",
     "output_type": "stream",
     "text": [
      "                                                                                                    \r"
     ]
    },
    {
     "name": "stdout",
     "output_type": "stream",
     "text": [
      "Epoch 58/60, G_Loss: 0.01310742, D_Loss: 0.13982667, Total Loss: 0.15293409\n"
     ]
    },
    {
     "name": "stderr",
     "output_type": "stream",
     "text": [
      "                                                                                                    \r"
     ]
    },
    {
     "name": "stdout",
     "output_type": "stream",
     "text": [
      "Epoch 59/60, G_Loss: 0.01323592, D_Loss: 0.16736312, Total Loss: 0.18059904\n"
     ]
    },
    {
     "name": "stderr",
     "output_type": "stream",
     "text": [
      "                                                                                                    "
     ]
    },
    {
     "name": "stdout",
     "output_type": "stream",
     "text": [
      "Epoch 60/60, G_Loss: 0.01331414, D_Loss: 0.12996156, Total Loss: 0.14327570\n",
      "Finished Training\n"
     ]
    },
    {
     "name": "stderr",
     "output_type": "stream",
     "text": [
      "\r"
     ]
    }
   ],
   "source": [
    "import torch\n",
    "import torch.nn as nn\n",
    "from torch import optim\n",
    "from torch.optim.lr_scheduler import StepLR\n",
    "from torch.nn.parallel import DataParallel\n",
    "\n",
    "\n",
    "\n",
    "device = torch.device(\"cuda\" if torch.cuda.is_available() else \"cpu\")\n",
    "print(f\"Using device: {device}\")\n",
    "\n",
    "\n",
    "generator = Generator(num_channels=1)  \n",
    "discriminator = Discriminator(num_channels=1) \n",
    "\n",
    "\n",
    "if torch.cuda.device_count() > 1:\n",
    "    print(f\"Using {torch.cuda.device_count()} GPUs!\")\n",
    "    generator = DataParallel(generator)\n",
    "    discriminator = DataParallel(discriminator)\n",
    "\n",
    "generator = generator.to(device)\n",
    "discriminator = discriminator.to(device)\n",
    "\n",
    "\n",
    "content_criterion = nn.L1Loss().to(device)\n",
    "adversarial_criterion = nn.BCELoss().to(device)\n",
    "\n",
    "gen_optimizer = optim.Adam(generator.parameters(), lr=0.0002)\n",
    "disc_optimizer = optim.Adam(discriminator.parameters(), lr=0.0002)\n",
    "\n",
    "\n",
    "scheduler = StepLR(gen_optimizer, step_size=10, gamma=0.5)\n",
    "train_srgan(generator, discriminator, train_dataloader, content_criterion, adversarial_criterion, \n",
    "            gen_optimizer, disc_optimizer, scheduler, device)"
   ]
  },
  {
   "cell_type": "code",
   "execution_count": 39,
   "metadata": {
    "execution": {
     "iopub.execute_input": "2024-09-04T06:28:03.295057Z",
     "iopub.status.busy": "2024-09-04T06:28:03.294690Z",
     "iopub.status.idle": "2024-09-04T06:28:03.331655Z",
     "shell.execute_reply": "2024-09-04T06:28:03.330777Z",
     "shell.execute_reply.started": "2024-09-04T06:28:03.295025Z"
    },
    "trusted": true
   },
   "outputs": [
    {
     "name": "stdout",
     "output_type": "stream",
     "text": [
      "Saved Successfully\n"
     ]
    }
   ],
   "source": [
    "save_path = \"./Model/Generator.pth\"\n",
    "torch.save(generator.state_dict(), save_path)\n",
    "print(\"Saved Successfully\")"
   ]
  },
  {
   "cell_type": "code",
   "execution_count": 40,
   "metadata": {
    "execution": {
     "iopub.execute_input": "2024-09-04T06:28:04.729715Z",
     "iopub.status.busy": "2024-09-04T06:28:04.729297Z",
     "iopub.status.idle": "2024-09-04T06:28:04.756897Z",
     "shell.execute_reply": "2024-09-04T06:28:04.755997Z",
     "shell.execute_reply.started": "2024-09-04T06:28:04.729679Z"
    },
    "trusted": true
   },
   "outputs": [
    {
     "name": "stdout",
     "output_type": "stream",
     "text": [
      "Saved Successfully\n"
     ]
    }
   ],
   "source": [
    "save_path = \"./Model/Discriminator.pth\"\n",
    "torch.save(discriminator.state_dict(), save_path)\n",
    "print(\"Saved Successfully\")"
   ]
  },
  {
   "cell_type": "code",
   "execution_count": 42,
   "metadata": {
    "execution": {
     "iopub.execute_input": "2024-09-04T12:30:05.481087Z",
     "iopub.status.busy": "2024-09-04T12:30:05.480213Z",
     "iopub.status.idle": "2024-09-04T12:30:05.702212Z",
     "shell.execute_reply": "2024-09-04T12:30:05.701330Z",
     "shell.execute_reply.started": "2024-09-04T12:30:05.481045Z"
    },
    "trusted": true
   },
   "outputs": [
    {
     "name": "stderr",
     "output_type": "stream",
     "text": [
      "/tmp/ipykernel_192594/3441606952.py:4: FutureWarning: You are using `torch.load` with `weights_only=False` (the current default value), which uses the default pickle module implicitly. It is possible to construct malicious pickle data which will execute arbitrary code during unpickling (See https://github.com/pytorch/pytorch/blob/main/SECURITY.md#untrusted-models for more details). In a future release, the default value for `weights_only` will be flipped to `True`. This limits the functions that could be executed during unpickling. Arbitrary objects will no longer be allowed to be loaded via this mode unless they are explicitly allowlisted by the user via `torch.serialization.add_safe_globals`. We recommend you start setting `weights_only=True` for any use case where you don't have full control of the loaded file. Please open an issue on GitHub for any issues related to this experimental feature.\n",
      "  checkpoint = torch.load(model_path, map_location=device)\n"
     ]
    },
    {
     "name": "stdout",
     "output_type": "stream",
     "text": [
      "Loaded model from epoch 19\n",
      "Generator Loss: 0.01300048\n",
      "Discriminator Loss: 0.00597589\n",
      "Total Loss: 0.01897637\n"
     ]
    }
   ],
   "source": [
    "import torch\n",
    "\n",
    "def load_srgan_model(generator, discriminator, gen_optimizer, disc_optimizer, scheduler, device, model_path):\n",
    "    checkpoint = torch.load(model_path, map_location=device)\n",
    "    \n",
    "    # Function to remove 'module.' prefix if it exists\n",
    "    def remove_module_prefix(state_dict):\n",
    "        return {k.replace('module.', ''): v for k, v in state_dict.items()}\n",
    "\n",
    "    # Load generator state dict\n",
    "    gen_state_dict = remove_module_prefix(checkpoint['generator_state_dict'])\n",
    "    generator.load_state_dict(gen_state_dict)\n",
    "\n",
    "    # Load discriminator state dict\n",
    "    disc_state_dict = remove_module_prefix(checkpoint['discriminator_state_dict'])\n",
    "    discriminator.load_state_dict(disc_state_dict)\n",
    "    \n",
    "    gen_optimizer.load_state_dict(checkpoint['gen_optimizer_state_dict'])\n",
    "    disc_optimizer.load_state_dict(checkpoint['disc_optimizer_state_dict'])\n",
    "    \n",
    "    scheduler.load_state_dict(checkpoint['scheduler_state_dict'])\n",
    "    \n",
    "    epoch = checkpoint['epoch']\n",
    "    g_loss = checkpoint['g_loss']\n",
    "    d_loss = checkpoint['d_loss']\n",
    "    total_loss = checkpoint['total_loss']\n",
    "    \n",
    "    print(f\"Loaded model from epoch {epoch}\")\n",
    "    print(f\"Generator Loss: {g_loss:.8f}\")\n",
    "    print(f\"Discriminator Loss: {d_loss:.8f}\")\n",
    "    print(f\"Total Loss: {total_loss:.8f}\")\n",
    "    \n",
    "    return generator, discriminator, gen_optimizer, disc_optimizer, scheduler, epoch\n",
    "\n",
    "# Usage example:\n",
    "generator = Generator().to(device)\n",
    "discriminator = Discriminator().to(device)\n",
    "gen_optimizer = torch.optim.Adam(generator.parameters(), lr=0.00001)\n",
    "disc_optimizer = torch.optim.Adam(discriminator.parameters(), lr=0.00001)\n",
    "scheduler = torch.optim.lr_scheduler.StepLR(gen_optimizer, step_size=10, gamma=0.5)\n",
    "\n",
    "model_path = './Model/best_model.pth'\n",
    "generator, discriminator, gen_optimizer, disc_optimizer, scheduler, epoch = load_srgan_model(\n",
    "    generator, discriminator, gen_optimizer, disc_optimizer, scheduler, device, model_path\n",
    ")"
   ]
  },
  {
   "cell_type": "code",
   "execution_count": null,
   "metadata": {
    "execution": {
     "iopub.execute_input": "2024-09-04T10:56:41.520887Z",
     "iopub.status.busy": "2024-09-04T10:56:41.520154Z",
     "iopub.status.idle": "2024-09-04T12:06:09.715861Z",
     "shell.execute_reply": "2024-09-04T12:06:09.714977Z",
     "shell.execute_reply.started": "2024-09-04T10:56:41.520844Z"
    },
    "trusted": true
   },
   "outputs": [
    {
     "name": "stderr",
     "output_type": "stream",
     "text": [
      "                                                                                                   \r"
     ]
    },
    {
     "name": "stdout",
     "output_type": "stream",
     "text": [
      "Epoch 1/30, G_Loss: 0.00827179, D_Loss: 0.00237070, Total Loss: 0.01064249\n",
      "New best model saved with Total Loss: 0.01064249\n"
     ]
    },
    {
     "name": "stderr",
     "output_type": "stream",
     "text": [
      "                                                                                                   \r"
     ]
    },
    {
     "name": "stdout",
     "output_type": "stream",
     "text": [
      "Epoch 2/30, G_Loss: 0.00816800, D_Loss: 0.00321377, Total Loss: 0.01138177\n"
     ]
    },
    {
     "name": "stderr",
     "output_type": "stream",
     "text": [
      "                                                                                                   \r"
     ]
    },
    {
     "name": "stdout",
     "output_type": "stream",
     "text": [
      "Epoch 3/30, G_Loss: 0.00831172, D_Loss: 0.00168830, Total Loss: 0.01000002\n",
      "New best model saved with Total Loss: 0.01000002\n"
     ]
    },
    {
     "name": "stderr",
     "output_type": "stream",
     "text": [
      "                                                                                                   \r"
     ]
    },
    {
     "name": "stdout",
     "output_type": "stream",
     "text": [
      "Epoch 4/30, G_Loss: 0.00833151, D_Loss: 0.00196013, Total Loss: 0.01029164\n"
     ]
    },
    {
     "name": "stderr",
     "output_type": "stream",
     "text": [
      "                                                                                                   \r"
     ]
    },
    {
     "name": "stdout",
     "output_type": "stream",
     "text": [
      "Epoch 5/30, G_Loss: 0.00893983, D_Loss: 0.00306464, Total Loss: 0.01200447\n"
     ]
    },
    {
     "name": "stderr",
     "output_type": "stream",
     "text": [
      "                                                                                                   \r"
     ]
    },
    {
     "name": "stdout",
     "output_type": "stream",
     "text": [
      "Epoch 6/30, G_Loss: 0.00939993, D_Loss: 0.00071642, Total Loss: 0.01011636\n"
     ]
    },
    {
     "name": "stderr",
     "output_type": "stream",
     "text": [
      "                                                                                                   \r"
     ]
    },
    {
     "name": "stdout",
     "output_type": "stream",
     "text": [
      "Epoch 7/30, G_Loss: 0.00978985, D_Loss: 0.00037812, Total Loss: 0.01016797\n"
     ]
    },
    {
     "name": "stderr",
     "output_type": "stream",
     "text": [
      "                                                                                                   \r"
     ]
    },
    {
     "name": "stdout",
     "output_type": "stream",
     "text": [
      "Epoch 8/30, G_Loss: 0.00969979, D_Loss: 0.00037031, Total Loss: 0.01007010\n"
     ]
    },
    {
     "name": "stderr",
     "output_type": "stream",
     "text": [
      "                                                                                                   \r"
     ]
    },
    {
     "name": "stdout",
     "output_type": "stream",
     "text": [
      "Epoch 9/30, G_Loss: 0.00970745, D_Loss: 0.00035015, Total Loss: 0.01005760\n"
     ]
    },
    {
     "name": "stderr",
     "output_type": "stream",
     "text": [
      "                                                                                                    \r"
     ]
    },
    {
     "name": "stdout",
     "output_type": "stream",
     "text": [
      "Epoch 10/30, G_Loss: 0.00982487, D_Loss: 0.00026822, Total Loss: 0.01009310\n"
     ]
    },
    {
     "name": "stderr",
     "output_type": "stream",
     "text": [
      "                                                                                                    \r"
     ]
    },
    {
     "name": "stdout",
     "output_type": "stream",
     "text": [
      "Epoch 11/30, G_Loss: 0.00987611, D_Loss: 0.00028551, Total Loss: 0.01016162\n"
     ]
    },
    {
     "name": "stderr",
     "output_type": "stream",
     "text": [
      "                                                                                                    \r"
     ]
    },
    {
     "name": "stdout",
     "output_type": "stream",
     "text": [
      "Epoch 12/30, G_Loss: 0.00997840, D_Loss: 0.00029933, Total Loss: 0.01027773\n"
     ]
    },
    {
     "name": "stderr",
     "output_type": "stream",
     "text": [
      "                                                                                                    \r"
     ]
    },
    {
     "name": "stdout",
     "output_type": "stream",
     "text": [
      "Epoch 13/30, G_Loss: 0.01014517, D_Loss: 0.00029240, Total Loss: 0.01043757\n"
     ]
    },
    {
     "name": "stderr",
     "output_type": "stream",
     "text": [
      "                                                                                                    \r"
     ]
    },
    {
     "name": "stdout",
     "output_type": "stream",
     "text": [
      "Epoch 14/30, G_Loss: 0.01179651, D_Loss: 0.00080243, Total Loss: 0.01259894\n"
     ]
    },
    {
     "name": "stderr",
     "output_type": "stream",
     "text": [
      "                                                                                                    \r"
     ]
    },
    {
     "name": "stdout",
     "output_type": "stream",
     "text": [
      "Epoch 15/30, G_Loss: 0.01139460, D_Loss: 0.00177022, Total Loss: 0.01316481\n"
     ]
    },
    {
     "name": "stderr",
     "output_type": "stream",
     "text": [
      "                                                                                                    \r"
     ]
    },
    {
     "name": "stdout",
     "output_type": "stream",
     "text": [
      "Epoch 16/30, G_Loss: 0.01030647, D_Loss: 0.02788146, Total Loss: 0.03818794\n"
     ]
    },
    {
     "name": "stderr",
     "output_type": "stream",
     "text": [
      "                                                                                                    \r"
     ]
    },
    {
     "name": "stdout",
     "output_type": "stream",
     "text": [
      "Epoch 17/30, G_Loss: 0.00955144, D_Loss: 0.00753848, Total Loss: 0.01708992\n"
     ]
    },
    {
     "name": "stderr",
     "output_type": "stream",
     "text": [
      "                                                                                                    \r"
     ]
    },
    {
     "name": "stdout",
     "output_type": "stream",
     "text": [
      "Epoch 18/30, G_Loss: 0.00987119, D_Loss: 0.00314483, Total Loss: 0.01301601\n"
     ]
    },
    {
     "name": "stderr",
     "output_type": "stream",
     "text": [
      "                                                                                                    \r"
     ]
    },
    {
     "name": "stdout",
     "output_type": "stream",
     "text": [
      "Epoch 19/30, G_Loss: 0.01010198, D_Loss: 0.00120116, Total Loss: 0.01130314\n"
     ]
    },
    {
     "name": "stderr",
     "output_type": "stream",
     "text": [
      "                                                                                                    \r"
     ]
    },
    {
     "name": "stdout",
     "output_type": "stream",
     "text": [
      "Epoch 20/30, G_Loss: 0.01022251, D_Loss: 0.03957902, Total Loss: 0.04980153\n"
     ]
    },
    {
     "name": "stderr",
     "output_type": "stream",
     "text": [
      "                                                                                                    \r"
     ]
    },
    {
     "name": "stdout",
     "output_type": "stream",
     "text": [
      "Epoch 21/30, G_Loss: 0.01041608, D_Loss: 0.01936132, Total Loss: 0.02977740\n"
     ]
    },
    {
     "name": "stderr",
     "output_type": "stream",
     "text": [
      "                                                                                                    \r"
     ]
    },
    {
     "name": "stdout",
     "output_type": "stream",
     "text": [
      "Epoch 22/30, G_Loss: 0.01062573, D_Loss: 0.00599392, Total Loss: 0.01661965\n"
     ]
    },
    {
     "name": "stderr",
     "output_type": "stream",
     "text": [
      "                                                                                                    \r"
     ]
    },
    {
     "name": "stdout",
     "output_type": "stream",
     "text": [
      "Epoch 23/30, G_Loss: 0.01200226, D_Loss: 0.00235176, Total Loss: 0.01435403\n"
     ]
    },
    {
     "name": "stderr",
     "output_type": "stream",
     "text": [
      "                                                                                                    \r"
     ]
    },
    {
     "name": "stdout",
     "output_type": "stream",
     "text": [
      "Epoch 24/30, G_Loss: 0.01019932, D_Loss: 0.00124707, Total Loss: 0.01144640\n"
     ]
    },
    {
     "name": "stderr",
     "output_type": "stream",
     "text": [
      "                                                                                                    \r"
     ]
    },
    {
     "name": "stdout",
     "output_type": "stream",
     "text": [
      "Epoch 25/30, G_Loss: 0.01027452, D_Loss: 0.00062287, Total Loss: 0.01089739\n"
     ]
    },
    {
     "name": "stderr",
     "output_type": "stream",
     "text": [
      "                                                                                                    \r"
     ]
    },
    {
     "name": "stdout",
     "output_type": "stream",
     "text": [
      "Epoch 26/30, G_Loss: 0.01039485, D_Loss: 0.00031709, Total Loss: 0.01071195\n"
     ]
    },
    {
     "name": "stderr",
     "output_type": "stream",
     "text": [
      "                                                                                                    \r"
     ]
    },
    {
     "name": "stdout",
     "output_type": "stream",
     "text": [
      "Epoch 27/30, G_Loss: 0.01033146, D_Loss: 0.00025908, Total Loss: 0.01059054\n"
     ]
    },
    {
     "name": "stderr",
     "output_type": "stream",
     "text": [
      "                                                                                                    \r"
     ]
    },
    {
     "name": "stdout",
     "output_type": "stream",
     "text": [
      "Epoch 28/30, G_Loss: 0.01045564, D_Loss: 0.00028231, Total Loss: 0.01073795\n"
     ]
    },
    {
     "name": "stderr",
     "output_type": "stream",
     "text": [
      "                                                                                                    \r"
     ]
    },
    {
     "name": "stdout",
     "output_type": "stream",
     "text": [
      "Epoch 29/30, G_Loss: 0.01075757, D_Loss: 0.00012926, Total Loss: 0.01088682\n"
     ]
    },
    {
     "name": "stderr",
     "output_type": "stream",
     "text": [
      "                                                                                                    "
     ]
    },
    {
     "name": "stdout",
     "output_type": "stream",
     "text": [
      "Epoch 30/30, G_Loss: 0.01104510, D_Loss: 0.01695203, Total Loss: 0.02799713\n",
      "Finished Training\n"
     ]
    },
    {
     "name": "stderr",
     "output_type": "stream",
     "text": [
      "\r"
     ]
    }
   ],
   "source": [
    "train_srgan(generator, discriminator, train_dataloader, content_criterion, adversarial_criterion, \n",
    "            gen_optimizer, disc_optimizer, scheduler, device)"
   ]
  },
  {
   "cell_type": "code",
   "execution_count": 44,
   "metadata": {},
   "outputs": [
    {
     "name": "stdout",
     "output_type": "stream",
     "text": [
      "Defaulting to user installation because normal site-packages is not writeable\n",
      "Collecting pytorch_msssim\n",
      "  Downloading pytorch_msssim-1.0.0-py3-none-any.whl.metadata (8.0 kB)\n",
      "Requirement already satisfied: torch in /home/koo/.local/lib/python3.10/site-packages (from pytorch_msssim) (2.4.0+cu118)\n",
      "Requirement already satisfied: filelock in /home/koo/.local/lib/python3.10/site-packages (from torch->pytorch_msssim) (3.13.1)\n",
      "Requirement already satisfied: typing-extensions>=4.8.0 in /home/koo/.local/lib/python3.10/site-packages (from torch->pytorch_msssim) (4.12.0)\n",
      "Requirement already satisfied: sympy in /home/koo/.local/lib/python3.10/site-packages (from torch->pytorch_msssim) (1.12)\n",
      "Requirement already satisfied: networkx in /home/koo/.local/lib/python3.10/site-packages (from torch->pytorch_msssim) (3.2.1)\n",
      "Requirement already satisfied: jinja2 in /home/koo/.local/lib/python3.10/site-packages (from torch->pytorch_msssim) (3.1.3)\n",
      "Requirement already satisfied: fsspec in /home/koo/.local/lib/python3.10/site-packages (from torch->pytorch_msssim) (2024.2.0)\n",
      "Requirement already satisfied: nvidia-cuda-nvrtc-cu11==11.8.89 in /home/koo/.local/lib/python3.10/site-packages (from torch->pytorch_msssim) (11.8.89)\n",
      "Requirement already satisfied: nvidia-cuda-runtime-cu11==11.8.89 in /home/koo/.local/lib/python3.10/site-packages (from torch->pytorch_msssim) (11.8.89)\n",
      "Requirement already satisfied: nvidia-cuda-cupti-cu11==11.8.87 in /home/koo/.local/lib/python3.10/site-packages (from torch->pytorch_msssim) (11.8.87)\n",
      "Requirement already satisfied: nvidia-cudnn-cu11==9.1.0.70 in /home/koo/.local/lib/python3.10/site-packages (from torch->pytorch_msssim) (9.1.0.70)\n",
      "Requirement already satisfied: nvidia-cublas-cu11==11.11.3.6 in /home/koo/.local/lib/python3.10/site-packages (from torch->pytorch_msssim) (11.11.3.6)\n",
      "Requirement already satisfied: nvidia-cufft-cu11==10.9.0.58 in /home/koo/.local/lib/python3.10/site-packages (from torch->pytorch_msssim) (10.9.0.58)\n",
      "Requirement already satisfied: nvidia-curand-cu11==10.3.0.86 in /home/koo/.local/lib/python3.10/site-packages (from torch->pytorch_msssim) (10.3.0.86)\n",
      "Requirement already satisfied: nvidia-cusolver-cu11==11.4.1.48 in /home/koo/.local/lib/python3.10/site-packages (from torch->pytorch_msssim) (11.4.1.48)\n",
      "Requirement already satisfied: nvidia-cusparse-cu11==11.7.5.86 in /home/koo/.local/lib/python3.10/site-packages (from torch->pytorch_msssim) (11.7.5.86)\n",
      "Requirement already satisfied: nvidia-nccl-cu11==2.20.5 in /home/koo/.local/lib/python3.10/site-packages (from torch->pytorch_msssim) (2.20.5)\n",
      "Requirement already satisfied: nvidia-nvtx-cu11==11.8.86 in /home/koo/.local/lib/python3.10/site-packages (from torch->pytorch_msssim) (11.8.86)\n",
      "Requirement already satisfied: triton==3.0.0 in /home/koo/.local/lib/python3.10/site-packages (from torch->pytorch_msssim) (3.0.0)\n",
      "Requirement already satisfied: MarkupSafe>=2.0 in /home/koo/.local/lib/python3.10/site-packages (from jinja2->torch->pytorch_msssim) (2.1.5)\n",
      "Requirement already satisfied: mpmath>=0.19 in /home/koo/.local/lib/python3.10/site-packages (from sympy->torch->pytorch_msssim) (1.3.0)\n",
      "Downloading pytorch_msssim-1.0.0-py3-none-any.whl (7.7 kB)\n",
      "Installing collected packages: pytorch_msssim\n",
      "Successfully installed pytorch_msssim-1.0.0\n"
     ]
    }
   ],
   "source": [
    "!pip install pytorch_msssim"
   ]
  },
  {
   "cell_type": "code",
   "execution_count": 47,
   "metadata": {
    "execution": {
     "iopub.execute_input": "2024-09-04T12:29:08.834793Z",
     "iopub.status.busy": "2024-09-04T12:29:08.833897Z",
     "iopub.status.idle": "2024-09-04T12:29:12.458893Z",
     "shell.execute_reply": "2024-09-04T12:29:12.457808Z",
     "shell.execute_reply.started": "2024-09-04T12:29:08.834751Z"
    },
    "trusted": true
   },
   "outputs": [
    {
     "name": "stderr",
     "output_type": "stream",
     "text": [
      "Evaluating Generator: 100%|██████████| 45/45 [00:02<00:00, 16.59it/s]\n"
     ]
    },
    {
     "name": "stdout",
     "output_type": "stream",
     "text": [
      "Average PSNR: 39.94\n",
      "Average SSIM: 0.9634\n",
      "Average MSE: 0.000103\n",
      "Average L1 Loss: 0.006155\n"
     ]
    }
   ],
   "source": [
    "import torch\n",
    "import torch.nn as nn\n",
    "from tqdm import tqdm\n",
    "from pytorch_msssim import ssim\n",
    "import math\n",
    "\n",
    "def evaluate_generator(generator, test_loader, device):\n",
    "    generator.eval()\n",
    "    mse_criterion = nn.MSELoss()\n",
    "    l1_criterion = nn.L1Loss()\n",
    "    \n",
    "    psnr_scores = []\n",
    "    ssim_scores = []\n",
    "    mse_scores = []\n",
    "    l1_scores = []\n",
    "    \n",
    "    with torch.no_grad():\n",
    "        for data in tqdm(test_loader, desc=\"Evaluating Generator\"):\n",
    "            lr, hr = data[0].to(device), data[1].to(device)\n",
    "            sr = generator(lr)\n",
    "            \n",
    "            # Ensure sr and hr have the same size\n",
    "            if sr.size() != hr.size():\n",
    "                sr = torch.nn.functional.interpolate(sr, size=hr.size()[2:], mode='bilinear', align_corners=False)\n",
    "            \n",
    "            # Calculate metrics for each image in the batch\n",
    "            for i in range(sr.size(0)):\n",
    "                sr_img = sr[i].unsqueeze(0)\n",
    "                hr_img = hr[i].unsqueeze(0)\n",
    "                \n",
    "                # MSE\n",
    "                mse = mse_criterion(sr_img, hr_img).item()\n",
    "                mse_scores.append(mse)\n",
    "                \n",
    "                # PSNR\n",
    "                psnr = 10 * math.log10(1 / mse)\n",
    "                psnr_scores.append(psnr)\n",
    "                \n",
    "                # SSIM\n",
    "                ssim_score = ssim(sr_img, hr_img, data_range=1.0, size_average=False).item()\n",
    "                ssim_scores.append(ssim_score)\n",
    "                \n",
    "                # L1 Loss\n",
    "                l1_loss = l1_criterion(sr_img, hr_img).item()\n",
    "                l1_scores.append(l1_loss)\n",
    "    \n",
    "    # Calculate average scores\n",
    "    avg_psnr = sum(psnr_scores) / len(psnr_scores)\n",
    "    avg_ssim = sum(ssim_scores) / len(ssim_scores)\n",
    "    avg_mse = sum(mse_scores) / len(mse_scores)\n",
    "    avg_l1 = sum(l1_scores) / len(l1_scores)\n",
    "    \n",
    "    return {\n",
    "        'psnr': psnr_scores,\n",
    "        'ssim': ssim_scores,\n",
    "        'mse': mse_scores,\n",
    "        'l1': l1_scores,\n",
    "        'avg_psnr': avg_psnr,\n",
    "        'avg_ssim': avg_ssim,\n",
    "        'avg_mse': avg_mse,\n",
    "        'avg_l1': avg_l1\n",
    "    }\n",
    "\n",
    "\n",
    "results = evaluate_generator(generator, test_dataloader, device)\n",
    "\n",
    "print(f\"Average PSNR: {results['avg_psnr']:.2f}\")\n",
    "print(f\"Average SSIM: {results['avg_ssim']:.4f}\")\n",
    "print(f\"Average MSE: {results['avg_mse']:.6f}\")\n",
    "print(f\"Average L1 Loss: {results['avg_l1']:.6f}\")"
   ]
  },
  {
   "cell_type": "code",
   "execution_count": null,
   "metadata": {
    "execution": {
     "iopub.execute_input": "2024-09-04T12:29:16.397569Z",
     "iopub.status.busy": "2024-09-04T12:29:16.397173Z",
     "iopub.status.idle": "2024-09-04T12:29:16.403021Z",
     "shell.execute_reply": "2024-09-04T12:29:16.402150Z",
     "shell.execute_reply.started": "2024-09-04T12:29:16.397529Z"
    },
    "trusted": true
   },
   "outputs": [
    {
     "name": "stdout",
     "output_type": "stream",
     "text": [
      "Average PSNR: 26.52\n",
      "Average SSIM: 0.5664\n",
      "Average MSE: 0.002784\n",
      "Average L1 Loss: 0.044891\n"
     ]
    }
   ],
   "source": [
    "print(f\"Average PSNR: {results['avg_psnr']:.2f}\")\n",
    "print(f\"Average SSIM: {results['avg_ssim']:.4f}\")\n",
    "print(f\"Average MSE: {results['avg_mse']:.6f}\")\n",
    "print(f\"Average L1 Loss: {results['avg_l1']:.6f}\")"
   ]
  },
  {
   "cell_type": "code",
   "execution_count": 50,
   "metadata": {
    "execution": {
     "iopub.execute_input": "2024-09-04T12:29:19.012648Z",
     "iopub.status.busy": "2024-09-04T12:29:19.011716Z",
     "iopub.status.idle": "2024-09-04T12:29:23.764682Z",
     "shell.execute_reply": "2024-09-04T12:29:23.763665Z",
     "shell.execute_reply.started": "2024-09-04T12:29:19.012605Z"
    },
    "trusted": true
   },
   "outputs": [
    {
     "name": "stdout",
     "output_type": "stream",
     "text": [
      "Input shape (lr): torch.Size([20, 1, 150, 150])\n",
      "Ground truth shape (hr): torch.Size([20, 1, 150, 150])\n",
      "Model output shape (sr): torch.Size([20, 1, 150, 150])\n",
      "Resized model output shape (sr): torch.Size([20, 1, 150, 150])\n"
     ]
    },
    {
     "data": {
      "image/png": "[encoded data removed]",
      "text/plain": [
       "<Figure size 2000x1000 with 8 Axes>"
      ]
     },
     "metadata": {},
     "output_type": "display_data"
    }
   ],
   "source": [
    "import matplotlib.pyplot as plt\n",
    "import torch\n",
    "import numpy as np\n",
    "from skimage.metrics import structural_similarity as ssim\n",
    "from skimage.metrics import peak_signal_noise_ratio as psnr\n",
    "\n",
    "def norma(x):\n",
    "    return (x - x.min()) / (x.max() - x.min())\n",
    "\n",
    "def plot_samples(model, test_loader, device, num_samples=2):\n",
    "    model.eval()\n",
    "    \n",
    "    # Get a batch of images\n",
    "    lr, hr = next(iter(test_loader))\n",
    "    lr, hr = lr.to(device), hr.to(device)\n",
    "    \n",
    "    print(f\"Input shape (lr): {lr.shape}\")\n",
    "    print(f\"Ground truth shape (hr): {hr.shape}\")\n",
    "    \n",
    "    with torch.no_grad():\n",
    "        sr = model(lr)\n",
    "    \n",
    "    print(f\"Model output shape (sr): {sr.shape}\")\n",
    "    \n",
    "    # Ensure sr and hr have the same size\n",
    "    if sr.size() != hr.size():\n",
    "        sr = torch.nn.functional.interpolate(sr, size=hr.size()[2:], mode='bilinear', align_corners=False)\n",
    "    \n",
    "    print(f\"Resized model output shape (sr): {sr.shape}\")\n",
    "    \n",
    "    # Determine the number of samples to plot (minimum of batch size and num_samples)\n",
    "    num_samples = min(lr.size(0), num_samples)\n",
    "    \n",
    "    # Calculate residuals\n",
    "    residuals = hr - sr\n",
    "    \n",
    "    # Calculate metrics\n",
    "    batch_psnr = []\n",
    "    batch_ssim = []\n",
    "    for i in range(num_samples):\n",
    "        sr_np = norma(sr[i, 0].cpu().numpy())\n",
    "        hr_np = norma(hr[i, 0].cpu().numpy())\n",
    "        batch_psnr.append(psnr(hr_np, sr_np, data_range=1.0))\n",
    "        batch_ssim.append(ssim(hr_np, sr_np, data_range=1.0))\n",
    "    \n",
    "    avg_psnr = np.mean(batch_psnr)\n",
    "    avg_ssim = np.mean(batch_ssim)\n",
    "    \n",
    "    # Plot the images\n",
    "    fig, axes = plt.subplots(num_samples, 4, figsize=(20, 5*num_samples))\n",
    "    \n",
    "    # Ensure axes is always 2D, even when num_samples is 1\n",
    "    if num_samples == 1:\n",
    "        axes = axes.reshape(1, -1)\n",
    "    \n",
    "    for i in range(num_samples):\n",
    "        # LR image\n",
    "        axes[i, 0].imshow(lr[i, 0].cpu().numpy(), cmap='gray')\n",
    "        axes[i, 0].set_title('LR Input')\n",
    "        axes[i, 0].axis('off')\n",
    "        # HR image\n",
    "        axes[i, 1].imshow(hr[i, 0].cpu().numpy(), cmap='gray')\n",
    "        axes[i, 1].set_title('HR Ground Truth')\n",
    "        axes[i, 1].axis('off')\n",
    "        # SR prediction\n",
    "        axes[i, 2].imshow(sr[i, 0].cpu().numpy(), cmap='gray')\n",
    "        axes[i, 2].set_title('SR Prediction')\n",
    "        axes[i, 2].axis('off')\n",
    "        # Residual map\n",
    "        axes[i, 3].imshow(residuals[i, 0].cpu().numpy(), cmap='bwr', vmin=-0.5, vmax=0.5)\n",
    "        axes[i, 3].set_title('Residual (SR - HR)')\n",
    "        axes[i, 3].axis('off')\n",
    "    \n",
    "    plt.tight_layout()\n",
    "    plt.suptitle(f'PSNR: {avg_psnr:.4f}, SSIM: {avg_ssim:.4f}')\n",
    "    plt.show()\n",
    "\n",
    "# Usage\n",
    "plot_samples(generator, test_dataloader, device, num_samples=2)  # Requesting 10 samples\n"
   ]
  },
  {
   "cell_type": "code",
   "execution_count": null,
   "metadata": {},
   "outputs": [],
   "source": []
  }
 ],
 "metadata": {
  "kaggle": {
   "accelerator": "nvidiaTeslaT4",
   "dataSources": [
    {
     "datasetId": 5285061,
     "sourceId": 8790556,
     "sourceType": "datasetVersion"
    },
    {
     "datasetId": 5404103,
     "sourceId": 8975474,
     "sourceType": "datasetVersion"
    }
   ],
   "dockerImageVersionId": 30762,
   "isGpuEnabled": true,
   "isInternetEnabled": true,
   "language": "python",
   "sourceType": "notebook"
  },
  "kernelspec": {
   "display_name": "Python 3",
   "language": "python",
   "name": "python3"
  },
  "language_info": {
   "codemirror_mode": {
    "name": "ipython",
    "version": 3
   },
   "file_extension": ".py",
   "mimetype": "text/x-python",
   "name": "python",
   "nbconvert_exporter": "python",
   "pygments_lexer": "ipython3",
   "version": "3.10.12"
  }
 },
 "nbformat": 4,
 "nbformat_minor": 4
}
